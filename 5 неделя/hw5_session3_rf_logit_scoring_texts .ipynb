{
  "nbformat": 4,
  "nbformat_minor": 0,
  "metadata": {
    "colab": {
      "name": "hw5_session3_rf_logit_scoring_texts.ipynb",
      "version": "0.3.2",
      "views": {},
      "default_view": {},
      "provenance": [],
      "collapsed_sections": []
    },
    "kernelspec": {
      "display_name": "Python 3",
      "language": "python",
      "name": "python3"
    }
  },
  "cells": [
    {
      "metadata": {
        "id": "SJwILoM-sYH0",
        "colab_type": "text"
      },
      "cell_type": "markdown",
      "source": [
        "<center>\n",
        "<img src=\"../../img/ods_stickers.jpg\">\n",
        "## Открытый курс по машинному обучению. Сессия № 3\n",
        "<center>\n",
        "Авторы материала: Виталий Радченко (YouScan) и Юрий Кашницкий (Mail.Ru Group).\n",
        "\n",
        "Материал распространяется на условиях лицензии [Creative Commons CC BY-NC-SA 4.0](https://creativecommons.org/licenses/by-nc-sa/4.0/). Можно использовать в любых целях (редактировать, поправлять и брать за основу), кроме коммерческих, но с обязательным упоминанием автора материала."
      ]
    },
    {
      "metadata": {
        "id": "YX-vHpFFsYH7",
        "colab_type": "text"
      },
      "cell_type": "markdown",
      "source": [
        "# <center> Домашнее задание №5\n",
        "## <center> Случайный лес и логистическая регрессия в задачах кредитного скоринга и классификации отзывов к фильмам"
      ]
    },
    {
      "metadata": {
        "id": "P4erexRQsYIA",
        "colab_type": "text"
      },
      "cell_type": "markdown",
      "source": [
        "#### Нашей главной задачей будет построение и настройка моделей для задач кредитного скоринга и анализа отзывов к фильмам. Заполните код в клетках (где написано \"Ваш код здесь\") и ответьте на вопросы в [веб-форме](https://docs.google.com/forms/d/1s17pqYJ1kUez7F_c0qHDLYpucL5XMs9QWK4JgTfxk9E/edit).\n",
        "\n",
        "Но для разминки решите первое задание.\n",
        "\n",
        "**<font color='red'>Задание 1.</font>** В зале суда есть 7 присяжных, каждый из них по отдельности с вероятностью 80% может правильно определить, виновен подсудимый или нет. С какой вероятностью присяжные все вместе вынесут правильный вердикт, если решение принимается большинством голосов?\n",
        "\n",
        "**<font color='red'>Варианты ответа:</font>**\n",
        "- 20.97%\n",
        "- 80.00%\n",
        "- 83.70%\n",
        "- 96.66%+\n",
        "\n",
        "Теперь перейдем непосредственно к машинному обучению.\n",
        "\n",
        "#### Данные по кредитному скорингу представлены следующим образом:\n",
        "\n",
        "##### Прогнозируемая  переменная\n",
        "* SeriousDlqin2yrs\t– Человек имел долгие просрочки выплат платежей за 2 года; бинарный признак\n",
        "\n",
        "##### Независимые признаки\n",
        "* age\t                         – Возраст заёмщика кредитных средств (число полных лет); тип – integer\n",
        "* NumberOfTime30-59DaysPastDueNotWorse\t– Количество раз, когда человек имел просрочку выплаты других кредитов более 30-59 дней (но не больше) в течение последних двух лет; тип -\tinteger\n",
        "* DebtRatio –\tЕжемесячный отчисления на задолжености(кредиты,алименты и т.д.)  / совокупный месячный доход \tpercentage; тип – float\n",
        "* MonthlyIncome\t– Месячный доход в долларах; тип –\tfloat\n",
        "* NumberOfTimes90DaysLate – Количество раз, когда человек имел просрочку выплаты других кредитов более 90 дней; тип –\tinteger\n",
        "* NumberOfTime60-89DaysPastDueNotWorse –\tКоличество раз, когда человек имел просрочку выплаты других кредитов более 60-89 дней (но не больше) в течение последних двух лет; тип – integer\n",
        "* NumberOfDependents – Число человек в семье кредитозаёмщика; тип –\tinteger"
      ]
    },
    {
      "metadata": {
        "id": "JgEdnaNRsYIE",
        "colab_type": "code",
        "colab": {
          "autoexec": {
            "startup": false,
            "wait_interval": 0
          }
        }
      },
      "cell_type": "code",
      "source": [
        "import numpy as np\n",
        "import pandas as pd\n",
        "import matplotlib.pyplot as plt\n",
        "%matplotlib inline"
      ],
      "execution_count": 0,
      "outputs": []
    },
    {
      "metadata": {
        "id": "LQrdHb-PsYIS",
        "colab_type": "text"
      },
      "cell_type": "markdown",
      "source": [
        "Напишем функцию, которая будет заменять значения NaN на медиану в каждом столбце таблицы. "
      ]
    },
    {
      "metadata": {
        "id": "WoMfyGJps7qo",
        "colab_type": "code",
        "colab": {
          "autoexec": {
            "startup": false,
            "wait_interval": 0
          },
          "output_extras": [
            {
              "item_id": 2
            }
          ],
          "base_uri": "https://localhost:8080/",
          "height": 119
        },
        "outputId": "87b477b7-4bc7-413b-dcc2-efc006118af7",
        "executionInfo": {
          "status": "ok",
          "timestamp": 1521302780270,
          "user_tz": -300,
          "elapsed": 6925,
          "user": {
            "displayName": "Алиса ф",
            "photoUrl": "https://lh3.googleusercontent.com/a/default-user=s128",
            "userId": "109323808846749119431"
          }
        }
      },
      "cell_type": "code",
      "source": [
        "!pip install -U -q PyDrive\n",
        "import os\n",
        "from pydrive.auth import GoogleAuth\n",
        "from pydrive.drive import GoogleDrive\n",
        "from google.colab import auth\n",
        "from oauth2client.client import GoogleCredentials\n",
        "\n",
        "# 1. Authenticate and create the PyDrive client.\n",
        "auth.authenticate_user()\n",
        "gauth = GoogleAuth()\n",
        "gauth.credentials = GoogleCredentials.get_application_default()\n",
        "drive = GoogleDrive(gauth)\n",
        "\n",
        "# choose a local (colab) directory to store the data.\n",
        "local_download_path = os.path.expanduser('~/data')\n",
        "try:\n",
        "  os.makedirs(local_download_path)\n",
        "except: pass\n",
        "\n",
        "# 2. Auto-iterate using the query syntax\n",
        "#    https://developers.google.com/drive/v2/web/search-parameters\n",
        "file_list = drive.ListFile(\n",
        "    {'q': \"'1Sp2ofxiAj27GGzRPgodKknEXA2cNoSUu' in parents\"}).GetList()\n",
        "\n",
        "csv = []\n",
        "for f in file_list:\n",
        "  # 3. Create & download by id.\n",
        "  print('title: %s, id: %s' % (f['title'], f['id']))\n",
        "  fname = os.path.join(local_download_path, f['title'])\n",
        "  print('downloading to {}'.format(fname))\n",
        "  f_ = drive.CreateFile({'id': f['id']})\n",
        "  f_.GetContentFile(fname)\n",
        "  csv.append(fname)"
      ],
      "execution_count": 4,
      "outputs": [
        {
          "output_type": "stream",
          "text": [
            "title: hw5_session3_rf_logit_scoring_texts.ipynb, id: 1TunTMorlMKPVicnaBlxf0Izp-UHJ3AcO\n",
            "downloading to /content/data/hw5_session3_rf_logit_scoring_texts.ipynb\n",
            "title: credit_scoring_sample.csv, id: 14rRs7ZhNlFVEh-rGtpl6JB5BWYHUXDI1\n",
            "downloading to /content/data/credit_scoring_sample.csv\n",
            "title: README.md, id: 15CEv3FoW_z_WwjYi1g7C-thKfI4Q3aVe\n",
            "downloading to /content/data/README.md\n"
          ],
          "name": "stdout"
        }
      ]
    },
    {
      "metadata": {
        "id": "n4pFo1PbsYIV",
        "colab_type": "code",
        "colab": {
          "autoexec": {
            "startup": false,
            "wait_interval": 0
          }
        }
      },
      "cell_type": "code",
      "source": [
        "def impute_nan_with_median(table):\n",
        "    for col in table.columns:\n",
        "        table[col]= table[col].fillna(table[col].median())\n",
        "    return table   "
      ],
      "execution_count": 0,
      "outputs": []
    },
    {
      "metadata": {
        "id": "cikEV0axsYIe",
        "colab_type": "text"
      },
      "cell_type": "markdown",
      "source": [
        "Считываем данные"
      ]
    },
    {
      "metadata": {
        "id": "T96O10edsYIi",
        "colab_type": "code",
        "colab": {
          "autoexec": {
            "startup": false,
            "wait_interval": 0
          },
          "output_extras": [
            {
              "item_id": 1
            }
          ],
          "base_uri": "https://localhost:8080/",
          "height": 221
        },
        "outputId": "07145b6a-44e0-4aa9-f1a0-21a3ccba63bd",
        "executionInfo": {
          "status": "ok",
          "timestamp": 1521302812451,
          "user_tz": -300,
          "elapsed": 771,
          "user": {
            "displayName": "Алиса ф",
            "photoUrl": "https://lh3.googleusercontent.com/a/default-user=s128",
            "userId": "109323808846749119431"
          }
        }
      },
      "cell_type": "code",
      "source": [
        "data = pd.read_csv(csv[1], sep=\";\")\n",
        "data.head()"
      ],
      "execution_count": 6,
      "outputs": [
        {
          "output_type": "execute_result",
          "data": {
            "text/html": [
              "<div>\n",
              "<style scoped>\n",
              "    .dataframe tbody tr th:only-of-type {\n",
              "        vertical-align: middle;\n",
              "    }\n",
              "\n",
              "    .dataframe tbody tr th {\n",
              "        vertical-align: top;\n",
              "    }\n",
              "\n",
              "    .dataframe thead th {\n",
              "        text-align: right;\n",
              "    }\n",
              "</style>\n",
              "<table border=\"1\" class=\"dataframe\">\n",
              "  <thead>\n",
              "    <tr style=\"text-align: right;\">\n",
              "      <th></th>\n",
              "      <th>SeriousDlqin2yrs</th>\n",
              "      <th>age</th>\n",
              "      <th>NumberOfTime30-59DaysPastDueNotWorse</th>\n",
              "      <th>DebtRatio</th>\n",
              "      <th>NumberOfTimes90DaysLate</th>\n",
              "      <th>NumberOfTime60-89DaysPastDueNotWorse</th>\n",
              "      <th>MonthlyIncome</th>\n",
              "      <th>NumberOfDependents</th>\n",
              "    </tr>\n",
              "  </thead>\n",
              "  <tbody>\n",
              "    <tr>\n",
              "      <th>0</th>\n",
              "      <td>0</td>\n",
              "      <td>64</td>\n",
              "      <td>0</td>\n",
              "      <td>0.249908</td>\n",
              "      <td>0</td>\n",
              "      <td>0</td>\n",
              "      <td>8158.0</td>\n",
              "      <td>0.0</td>\n",
              "    </tr>\n",
              "    <tr>\n",
              "      <th>1</th>\n",
              "      <td>0</td>\n",
              "      <td>58</td>\n",
              "      <td>0</td>\n",
              "      <td>3870.000000</td>\n",
              "      <td>0</td>\n",
              "      <td>0</td>\n",
              "      <td>NaN</td>\n",
              "      <td>0.0</td>\n",
              "    </tr>\n",
              "    <tr>\n",
              "      <th>2</th>\n",
              "      <td>0</td>\n",
              "      <td>41</td>\n",
              "      <td>0</td>\n",
              "      <td>0.456127</td>\n",
              "      <td>0</td>\n",
              "      <td>0</td>\n",
              "      <td>6666.0</td>\n",
              "      <td>0.0</td>\n",
              "    </tr>\n",
              "    <tr>\n",
              "      <th>3</th>\n",
              "      <td>0</td>\n",
              "      <td>43</td>\n",
              "      <td>0</td>\n",
              "      <td>0.000190</td>\n",
              "      <td>0</td>\n",
              "      <td>0</td>\n",
              "      <td>10500.0</td>\n",
              "      <td>2.0</td>\n",
              "    </tr>\n",
              "    <tr>\n",
              "      <th>4</th>\n",
              "      <td>1</td>\n",
              "      <td>49</td>\n",
              "      <td>0</td>\n",
              "      <td>0.271820</td>\n",
              "      <td>0</td>\n",
              "      <td>0</td>\n",
              "      <td>400.0</td>\n",
              "      <td>0.0</td>\n",
              "    </tr>\n",
              "  </tbody>\n",
              "</table>\n",
              "</div>"
            ],
            "text/plain": [
              "   SeriousDlqin2yrs  age  NumberOfTime30-59DaysPastDueNotWorse    DebtRatio  \\\n",
              "0                 0   64                                     0     0.249908   \n",
              "1                 0   58                                     0  3870.000000   \n",
              "2                 0   41                                     0     0.456127   \n",
              "3                 0   43                                     0     0.000190   \n",
              "4                 1   49                                     0     0.271820   \n",
              "\n",
              "   NumberOfTimes90DaysLate  NumberOfTime60-89DaysPastDueNotWorse  \\\n",
              "0                        0                                     0   \n",
              "1                        0                                     0   \n",
              "2                        0                                     0   \n",
              "3                        0                                     0   \n",
              "4                        0                                     0   \n",
              "\n",
              "   MonthlyIncome  NumberOfDependents  \n",
              "0         8158.0                 0.0  \n",
              "1            NaN                 0.0  \n",
              "2         6666.0                 0.0  \n",
              "3        10500.0                 2.0  \n",
              "4          400.0                 0.0  "
            ]
          },
          "metadata": {
            "tags": []
          },
          "execution_count": 6
        }
      ]
    },
    {
      "metadata": {
        "id": "w7q5cNCvsYI2",
        "colab_type": "text"
      },
      "cell_type": "markdown",
      "source": [
        "Рассмотрим типы считанных данных"
      ]
    },
    {
      "metadata": {
        "id": "BNFtE22AsYI4",
        "colab_type": "code",
        "colab": {
          "autoexec": {
            "startup": false,
            "wait_interval": 0
          },
          "output_extras": [
            {
              "item_id": 1
            }
          ],
          "base_uri": "https://localhost:8080/",
          "height": 170
        },
        "outputId": "bbd66704-700a-4f2a-8f88-d458f3d623c4",
        "executionInfo": {
          "status": "ok",
          "timestamp": 1521302818782,
          "user_tz": -300,
          "elapsed": 599,
          "user": {
            "displayName": "Алиса ф",
            "photoUrl": "https://lh3.googleusercontent.com/a/default-user=s128",
            "userId": "109323808846749119431"
          }
        }
      },
      "cell_type": "code",
      "source": [
        "data.dtypes"
      ],
      "execution_count": 7,
      "outputs": [
        {
          "output_type": "execute_result",
          "data": {
            "text/plain": [
              "SeriousDlqin2yrs                          int64\n",
              "age                                       int64\n",
              "NumberOfTime30-59DaysPastDueNotWorse      int64\n",
              "DebtRatio                               float64\n",
              "NumberOfTimes90DaysLate                   int64\n",
              "NumberOfTime60-89DaysPastDueNotWorse      int64\n",
              "MonthlyIncome                           float64\n",
              "NumberOfDependents                      float64\n",
              "dtype: object"
            ]
          },
          "metadata": {
            "tags": []
          },
          "execution_count": 7
        }
      ]
    },
    {
      "metadata": {
        "id": "4hhZjl_gsYJK",
        "colab_type": "text"
      },
      "cell_type": "markdown",
      "source": [
        "Посмотрим на распределение классов в зависимой переменной"
      ]
    },
    {
      "metadata": {
        "id": "LiR97dc5sYJM",
        "colab_type": "code",
        "colab": {
          "autoexec": {
            "startup": false,
            "wait_interval": 0
          },
          "output_extras": [
            {
              "item_id": 1
            },
            {
              "item_id": 2
            },
            {
              "item_id": 3
            }
          ],
          "base_uri": "https://localhost:8080/",
          "height": 362
        },
        "outputId": "2e516b7f-f16d-4fce-aba9-f0f1cebb6b82",
        "executionInfo": {
          "status": "ok",
          "timestamp": 1521302825691,
          "user_tz": -300,
          "elapsed": 830,
          "user": {
            "displayName": "Алиса ф",
            "photoUrl": "https://lh3.googleusercontent.com/a/default-user=s128",
            "userId": "109323808846749119431"
          }
        }
      },
      "cell_type": "code",
      "source": [
        "ax = data['SeriousDlqin2yrs'].hist(orientation='horizontal', color='red')\n",
        "ax.set_xlabel(\"number_of_observations\")\n",
        "ax.set_ylabel(\"unique_value\")\n",
        "ax.set_title(\"Target distribution\")\n",
        "\n",
        "print('Distribution of target:')\n",
        "data['SeriousDlqin2yrs'].value_counts() / data.shape[0]"
      ],
      "execution_count": 8,
      "outputs": [
        {
          "output_type": "stream",
          "text": [
            "Distribution of target:\n"
          ],
          "name": "stdout"
        },
        {
          "output_type": "execute_result",
          "data": {
            "text/plain": [
              "0    0.777511\n",
              "1    0.222489\n",
              "Name: SeriousDlqin2yrs, dtype: float64"
            ]
          },
          "metadata": {
            "tags": []
          },
          "execution_count": 8
        },
        {
          "output_type": "display_data",
          "data": {
            "image/png": "[encoded data removed]",
            "text/plain": [
              "<matplotlib.figure.Figure at 0x7fd9f9e71e48>"
            ]
          },
          "metadata": {
            "tags": []
          }
        }
      ]
    },
    {
      "metadata": {
        "id": "D217yZGcsYJd",
        "colab_type": "text"
      },
      "cell_type": "markdown",
      "source": [
        "Выберем названия всех признаков, кроме прогнозируемого"
      ]
    },
    {
      "metadata": {
        "id": "wjVQ82MQsYJj",
        "colab_type": "code",
        "colab": {
          "autoexec": {
            "startup": false,
            "wait_interval": 0
          },
          "output_extras": [
            {
              "item_id": 1
            }
          ],
          "base_uri": "https://localhost:8080/",
          "height": 136
        },
        "outputId": "0d1e7fef-fbb9-49eb-dd4c-1c8c6d504eba",
        "executionInfo": {
          "status": "ok",
          "timestamp": 1521302831671,
          "user_tz": -300,
          "elapsed": 672,
          "user": {
            "displayName": "Алиса ф",
            "photoUrl": "https://lh3.googleusercontent.com/a/default-user=s128",
            "userId": "109323808846749119431"
          }
        }
      },
      "cell_type": "code",
      "source": [
        "independent_columns_names = data.columns.values\n",
        "independent_columns_names = [x for x in data if x != 'SeriousDlqin2yrs']\n",
        "independent_columns_names"
      ],
      "execution_count": 9,
      "outputs": [
        {
          "output_type": "execute_result",
          "data": {
            "text/plain": [
              "['age',\n",
              " 'NumberOfTime30-59DaysPastDueNotWorse',\n",
              " 'DebtRatio',\n",
              " 'NumberOfTimes90DaysLate',\n",
              " 'NumberOfTime60-89DaysPastDueNotWorse',\n",
              " 'MonthlyIncome',\n",
              " 'NumberOfDependents']"
            ]
          },
          "metadata": {
            "tags": []
          },
          "execution_count": 9
        }
      ]
    },
    {
      "metadata": {
        "id": "Rq5UpHKnsYJ6",
        "colab_type": "text"
      },
      "cell_type": "markdown",
      "source": [
        "Применяем функцию, заменяющую все значения NaN на медианное значение соответствующего столбца."
      ]
    },
    {
      "metadata": {
        "id": "3Fiicu1UsYJ9",
        "colab_type": "code",
        "colab": {
          "autoexec": {
            "startup": false,
            "wait_interval": 0
          }
        }
      },
      "cell_type": "code",
      "source": [
        "table = impute_nan_with_median(data)"
      ],
      "execution_count": 0,
      "outputs": []
    },
    {
      "metadata": {
        "id": "OFZXH33-sYKI",
        "colab_type": "text"
      },
      "cell_type": "markdown",
      "source": [
        "Разделяем целевой признак и все остальные – получаем обучающую выборку. "
      ]
    },
    {
      "metadata": {
        "id": "hwVJnScxsYKL",
        "colab_type": "code",
        "colab": {
          "autoexec": {
            "startup": false,
            "wait_interval": 0
          }
        }
      },
      "cell_type": "code",
      "source": [
        "X = table[independent_columns_names]\n",
        "y = table['SeriousDlqin2yrs']"
      ],
      "execution_count": 0,
      "outputs": []
    },
    {
      "metadata": {
        "id": "FUWKLktssYKW",
        "colab_type": "text"
      },
      "cell_type": "markdown",
      "source": [
        "Выведем версии основных библиотек – результат `GridSearchCV`, например, может отличаться в разных версиях `sklearn` даже при фиксированном `random_state`."
      ]
    },
    {
      "metadata": {
        "id": "oKgIFiz9sYKa",
        "colab_type": "code",
        "colab": {
          "autoexec": {
            "startup": false,
            "wait_interval": 0
          },
          "output_extras": [
            {
              "item_id": 3
            }
          ],
          "base_uri": "https://localhost:8080/",
          "height": 306
        },
        "outputId": "89785286-f31c-4d7f-f00d-c639e2614fe7",
        "executionInfo": {
          "status": "ok",
          "timestamp": 1521302852076,
          "user_tz": -300,
          "elapsed": 3821,
          "user": {
            "displayName": "Алиса ф",
            "photoUrl": "https://lh3.googleusercontent.com/a/default-user=s128",
            "userId": "109323808846749119431"
          }
        }
      },
      "cell_type": "code",
      "source": [
        "!pip install watermark\n",
        "%load_ext watermark"
      ],
      "execution_count": 12,
      "outputs": [
        {
          "output_type": "stream",
          "text": [
            "Collecting watermark\n",
            "  Downloading watermark-1.6.0-py3-none-any.whl\n",
            "Requirement already satisfied: ipython in /usr/local/lib/python3.6/dist-packages (from watermark)\n",
            "Requirement already satisfied: traitlets>=4.2 in /usr/local/lib/python3.6/dist-packages (from ipython->watermark)\n",
            "Requirement already satisfied: pickleshare in /usr/local/lib/python3.6/dist-packages (from ipython->watermark)\n",
            "Requirement already satisfied: pexpect; sys_platform != \"win32\" in /usr/local/lib/python3.6/dist-packages (from ipython->watermark)\n",
            "Requirement already satisfied: decorator in /usr/local/lib/python3.6/dist-packages (from ipython->watermark)\n",
            "Requirement already satisfied: setuptools>=18.5 in /usr/lib/python3/dist-packages (from ipython->watermark)\n",
            "Requirement already satisfied: prompt-toolkit<2.0.0,>=1.0.4 in /usr/local/lib/python3.6/dist-packages (from ipython->watermark)\n",
            "Requirement already satisfied: simplegeneric>0.8 in /usr/local/lib/python3.6/dist-packages (from ipython->watermark)\n",
            "Requirement already satisfied: pygments in /usr/local/lib/python3.6/dist-packages (from ipython->watermark)\n",
            "Requirement already satisfied: ipython-genutils in /usr/local/lib/python3.6/dist-packages (from traitlets>=4.2->ipython->watermark)\n",
            "Requirement already satisfied: six in /usr/local/lib/python3.6/dist-packages (from traitlets>=4.2->ipython->watermark)\n",
            "Requirement already satisfied: ptyprocess>=0.5 in /usr/local/lib/python3.6/dist-packages (from pexpect; sys_platform != \"win32\"->ipython->watermark)\n",
            "Requirement already satisfied: wcwidth in /usr/local/lib/python3.6/dist-packages (from prompt-toolkit<2.0.0,>=1.0.4->ipython->watermark)\n",
            "Installing collected packages: watermark\n",
            "Successfully installed watermark-1.6.0\n"
          ],
          "name": "stdout"
        }
      ]
    },
    {
      "metadata": {
        "id": "HIOLa31PsYKk",
        "colab_type": "code",
        "colab": {
          "autoexec": {
            "startup": false,
            "wait_interval": 0
          },
          "output_extras": [
            {
              "item_id": 1
            }
          ],
          "base_uri": "https://localhost:8080/",
          "height": 306
        },
        "outputId": "2836e22e-03ef-4980-99ce-8017abc79173",
        "executionInfo": {
          "status": "ok",
          "timestamp": 1521302856189,
          "user_tz": -300,
          "elapsed": 639,
          "user": {
            "displayName": "Алиса ф",
            "photoUrl": "https://lh3.googleusercontent.com/a/default-user=s128",
            "userId": "109323808846749119431"
          }
        }
      },
      "cell_type": "code",
      "source": [
        "%watermark -v -m -p numpy,scipy,pandas,matplotlib,sklearn -g"
      ],
      "execution_count": 13,
      "outputs": [
        {
          "output_type": "stream",
          "text": [
            "CPython 3.6.3\n",
            "IPython 5.5.0\n",
            "\n",
            "numpy 1.14.2\n",
            "scipy 0.19.1\n",
            "pandas 0.22.0\n",
            "matplotlib 2.1.2\n",
            "sklearn 0.19.1\n",
            "\n",
            "compiler   : GCC 7.2.0\n",
            "system     : Linux\n",
            "release    : 4.4.96+\n",
            "machine    : x86_64\n",
            "processor  : x86_64\n",
            "CPU cores  : 2\n",
            "interpreter: 64bit\n",
            "Git hash   :\n"
          ],
          "name": "stdout"
        }
      ]
    },
    {
      "metadata": {
        "id": "DMquNiwBsYLB",
        "colab_type": "text"
      },
      "cell_type": "markdown",
      "source": [
        "# Бутстрэп\n",
        "\n",
        "**<font color='red'>Задание 2.</font>** Сделайте интервальную оценку (на основе бутстрэпа) среднего дохода (MonthlyIncome) клиентов, просрочивших выплату кредита, и отдельно – для вовремя заплативших. Стройте 90% доверительный интервал. Найдите разницу между нижней границей полученного интервала для не просрочивших кредит и верхней границей – для просрочивших. \n",
        "То есть вас просят построить 90%-ые интервалы для дохода \"хороших\" клиентов $[good\\_income\\_lower, good\\_income\\_upper]$ и для \"плохих\" – $[bad\\_income\\_lower, bad\\_income\\_upper]$ и найти разницу $good\\_income\\_lower - bad\\_income\\_upper$.\n",
        "\n",
        "Используйте пример из [статьи](https://habrahabr.ru/company/ods/blog/324402/). Поставьте `np.random.seed(17)`. Округлите ответ до целых."
      ]
    },
    {
      "metadata": {
        "id": "Awif9SXusYLE",
        "colab_type": "text"
      },
      "cell_type": "markdown",
      "source": [
        "**<font color='red'>Варианты ответа:</font>**\n",
        "- 345\n",
        "- 425\n",
        "- 585\n",
        "- 655+"
      ]
    },
    {
      "metadata": {
        "id": "qQg6d6VNutgp",
        "colab_type": "code",
        "colab": {
          "autoexec": {
            "startup": false,
            "wait_interval": 0
          },
          "output_extras": [
            {
              "item_id": 1
            }
          ],
          "base_uri": "https://localhost:8080/",
          "height": 221
        },
        "outputId": "b059be30-62fd-477c-de20-8a1f101bd2d8",
        "executionInfo": {
          "status": "ok",
          "timestamp": 1521303089244,
          "user_tz": -300,
          "elapsed": 664,
          "user": {
            "displayName": "Алиса ф",
            "photoUrl": "https://lh3.googleusercontent.com/a/default-user=s128",
            "userId": "109323808846749119431"
          }
        }
      },
      "cell_type": "code",
      "source": [
        "data.head()"
      ],
      "execution_count": 14,
      "outputs": [
        {
          "output_type": "execute_result",
          "data": {
            "text/html": [
              "<div>\n",
              "<style scoped>\n",
              "    .dataframe tbody tr th:only-of-type {\n",
              "        vertical-align: middle;\n",
              "    }\n",
              "\n",
              "    .dataframe tbody tr th {\n",
              "        vertical-align: top;\n",
              "    }\n",
              "\n",
              "    .dataframe thead th {\n",
              "        text-align: right;\n",
              "    }\n",
              "</style>\n",
              "<table border=\"1\" class=\"dataframe\">\n",
              "  <thead>\n",
              "    <tr style=\"text-align: right;\">\n",
              "      <th></th>\n",
              "      <th>SeriousDlqin2yrs</th>\n",
              "      <th>age</th>\n",
              "      <th>NumberOfTime30-59DaysPastDueNotWorse</th>\n",
              "      <th>DebtRatio</th>\n",
              "      <th>NumberOfTimes90DaysLate</th>\n",
              "      <th>NumberOfTime60-89DaysPastDueNotWorse</th>\n",
              "      <th>MonthlyIncome</th>\n",
              "      <th>NumberOfDependents</th>\n",
              "    </tr>\n",
              "  </thead>\n",
              "  <tbody>\n",
              "    <tr>\n",
              "      <th>0</th>\n",
              "      <td>0</td>\n",
              "      <td>64</td>\n",
              "      <td>0</td>\n",
              "      <td>0.249908</td>\n",
              "      <td>0</td>\n",
              "      <td>0</td>\n",
              "      <td>8158.0</td>\n",
              "      <td>0.0</td>\n",
              "    </tr>\n",
              "    <tr>\n",
              "      <th>1</th>\n",
              "      <td>0</td>\n",
              "      <td>58</td>\n",
              "      <td>0</td>\n",
              "      <td>3870.000000</td>\n",
              "      <td>0</td>\n",
              "      <td>0</td>\n",
              "      <td>5166.0</td>\n",
              "      <td>0.0</td>\n",
              "    </tr>\n",
              "    <tr>\n",
              "      <th>2</th>\n",
              "      <td>0</td>\n",
              "      <td>41</td>\n",
              "      <td>0</td>\n",
              "      <td>0.456127</td>\n",
              "      <td>0</td>\n",
              "      <td>0</td>\n",
              "      <td>6666.0</td>\n",
              "      <td>0.0</td>\n",
              "    </tr>\n",
              "    <tr>\n",
              "      <th>3</th>\n",
              "      <td>0</td>\n",
              "      <td>43</td>\n",
              "      <td>0</td>\n",
              "      <td>0.000190</td>\n",
              "      <td>0</td>\n",
              "      <td>0</td>\n",
              "      <td>10500.0</td>\n",
              "      <td>2.0</td>\n",
              "    </tr>\n",
              "    <tr>\n",
              "      <th>4</th>\n",
              "      <td>1</td>\n",
              "      <td>49</td>\n",
              "      <td>0</td>\n",
              "      <td>0.271820</td>\n",
              "      <td>0</td>\n",
              "      <td>0</td>\n",
              "      <td>400.0</td>\n",
              "      <td>0.0</td>\n",
              "    </tr>\n",
              "  </tbody>\n",
              "</table>\n",
              "</div>"
            ],
            "text/plain": [
              "   SeriousDlqin2yrs  age  NumberOfTime30-59DaysPastDueNotWorse    DebtRatio  \\\n",
              "0                 0   64                                     0     0.249908   \n",
              "1                 0   58                                     0  3870.000000   \n",
              "2                 0   41                                     0     0.456127   \n",
              "3                 0   43                                     0     0.000190   \n",
              "4                 1   49                                     0     0.271820   \n",
              "\n",
              "   NumberOfTimes90DaysLate  NumberOfTime60-89DaysPastDueNotWorse  \\\n",
              "0                        0                                     0   \n",
              "1                        0                                     0   \n",
              "2                        0                                     0   \n",
              "3                        0                                     0   \n",
              "4                        0                                     0   \n",
              "\n",
              "   MonthlyIncome  NumberOfDependents  \n",
              "0         8158.0                 0.0  \n",
              "1         5166.0                 0.0  \n",
              "2         6666.0                 0.0  \n",
              "3        10500.0                 2.0  \n",
              "4          400.0                 0.0  "
            ]
          },
          "metadata": {
            "tags": []
          },
          "execution_count": 14
        }
      ]
    },
    {
      "metadata": {
        "id": "fagxmN08sYLH",
        "colab_type": "code",
        "colab": {
          "autoexec": {
            "startup": false,
            "wait_interval": 0
          },
          "output_extras": [
            {
              "item_id": 1
            }
          ],
          "base_uri": "https://localhost:8080/",
          "height": 51
        },
        "outputId": "e8e42a61-b93b-44c9-f787-d9df55677944",
        "executionInfo": {
          "status": "ok",
          "timestamp": 1521303994859,
          "user_tz": -300,
          "elapsed": 2447,
          "user": {
            "displayName": "Алиса ф",
            "photoUrl": "https://lh3.googleusercontent.com/a/default-user=s128",
            "userId": "109323808846749119431"
          }
        }
      },
      "cell_type": "code",
      "source": [
        "import numpy as np\n",
        "def get_bootstrap_samples(data, n_samples):\n",
        "    # функция для генерации подвыборок с помощью бутстрэпа\n",
        "    indices = np.random.randint(0, len(data), (n_samples, len(data)))\n",
        "    samples = data[indices]\n",
        "    return samples\n",
        "def stat_intervals(stat, alpha):\n",
        "    # функция для интервальной оценки\n",
        "    boundaries = np.percentile(stat, [100 * alpha / 2., 100 * (1 - alpha / 2.)])\n",
        "    return boundaries\n",
        "\n",
        "# сохранение в отдельные numpy массивы данных по хорошим и плохим клиентам\n",
        "good_income = data[data['SeriousDlqin2yrs'] == False]['MonthlyIncome'].values\n",
        "bad_income= data[data['SeriousDlqin2yrs'] == True]['MonthlyIncome'].values\n",
        "\n",
        "# ставим seed для воспроизводимости результатов\n",
        "np.random.seed(17)\n",
        "\n",
        "# генерируем выборки с помощью бутстрэра и сразу считаем по каждой из них среднее\n",
        "good_income_scores = [np.mean(sample) \n",
        "                       for sample in get_bootstrap_samples(good_income, 1000)]\n",
        "bad_income_scores = [np.mean(sample) \n",
        "                       for sample in get_bootstrap_samples(bad_income, 1000)]\n",
        "\n",
        "#  выводим интервальную оценку среднего\n",
        "print(\"Service calls from good_income:  mean interval\",  stat_intervals(good_income_scores, 0.1))\n",
        "print(\"Service calls from bad_income:  mean interval\",  stat_intervals(bad_income_scores, 0.1))"
      ],
      "execution_count": 23,
      "outputs": [
        {
          "output_type": "stream",
          "text": [
            "Service calls from good_income:  mean interval [6295.93237577 6505.35467934]\n",
            "Service calls from bad_income:  mean interval [5471.64826451 5643.93562737]\n"
          ],
          "name": "stdout"
        }
      ]
    },
    {
      "metadata": {
        "id": "o8uwiHo3sYLT",
        "colab_type": "text"
      },
      "cell_type": "markdown",
      "source": [
        "# Дерево решений, подбор гиперпараметров"
      ]
    },
    {
      "metadata": {
        "id": "zq7GiEVlsYLW",
        "colab_type": "text"
      },
      "cell_type": "markdown",
      "source": [
        "Одной из основных метрик качества модели является площадь под ROC-кривой. Значения ROC-AUC лежат от 0 до 1. Чем ближе значение ROC-AUC к 1, тем качественнее происходит классификация моделью.\n",
        "\n",
        "Найдите с помощью `GridSearchCV` гиперпараметры `DecisionTreeClassifier`, максимизирующие площадь под ROC-кривой. "
      ]
    },
    {
      "metadata": {
        "id": "QRZUzXIHsYLZ",
        "colab_type": "code",
        "colab": {
          "autoexec": {
            "startup": false,
            "wait_interval": 0
          }
        }
      },
      "cell_type": "code",
      "source": [
        "from sklearn.tree import DecisionTreeClassifier\n",
        "from sklearn.model_selection import GridSearchCV, StratifiedKFold, train_test_split\n",
        "from sklearn.metrics import roc_auc_score\n"
      ],
      "execution_count": 0,
      "outputs": []
    },
    {
      "metadata": {
        "id": "Hnqdk8oMsYLu",
        "colab_type": "text"
      },
      "cell_type": "markdown",
      "source": [
        "Используем модуль `DecisionTreeClassifier` для построения дерева решений. Из-за несбалансированности классов  в целевом признаке добавляем параметр балансировки. Используем также параметр `random_state=17` для воспроизводимости результатов."
      ]
    },
    {
      "metadata": {
        "id": "1qSNBODpsYLx",
        "colab_type": "code",
        "colab": {
          "autoexec": {
            "startup": false,
            "wait_interval": 0
          }
        }
      },
      "cell_type": "code",
      "source": [
        "dt = DecisionTreeClassifier(random_state=17, class_weight='balanced')"
      ],
      "execution_count": 0,
      "outputs": []
    },
    {
      "metadata": {
        "id": "KKrzk8sNsYL9",
        "colab_type": "text"
      },
      "cell_type": "markdown",
      "source": [
        "Перебирать будем вот такие значения гиперпараметров:"
      ]
    },
    {
      "metadata": {
        "id": "w94o5TFQsYMB",
        "colab_type": "code",
        "colab": {
          "autoexec": {
            "startup": false,
            "wait_interval": 0
          }
        }
      },
      "cell_type": "code",
      "source": [
        "max_depth_values = [5, 6, 7, 8, 9]\n",
        "max_features_values = [4, 5, 6, 7]\n",
        "tree_params = {'max_depth': max_depth_values,\n",
        "               'max_features': max_features_values}"
      ],
      "execution_count": 0,
      "outputs": []
    },
    {
      "metadata": {
        "id": "kYbj2LgDsYMM",
        "colab_type": "text"
      },
      "cell_type": "markdown",
      "source": [
        "Зафиксируем кросс-валидацию: стратифицированная, 5 разбиений с перемешиванием, не забываем про `random_state`."
      ]
    },
    {
      "metadata": {
        "id": "k82v66MDsYMP",
        "colab_type": "code",
        "colab": {
          "autoexec": {
            "startup": false,
            "wait_interval": 0
          }
        }
      },
      "cell_type": "code",
      "source": [
        "skf = StratifiedKFold(n_splits=5, shuffle=True, random_state=17)"
      ],
      "execution_count": 0,
      "outputs": []
    },
    {
      "metadata": {
        "id": "XNDNE-EBsYMZ",
        "colab_type": "text"
      },
      "cell_type": "markdown",
      "source": [
        "**<font color='red'>Задание 3.</font>**\n",
        "Сделайте GridSearch с метрикой ROC AUC по гиперпараметрам из словаря `tree_params`. Какое максимальное значение ROC AUC получилось (округлите до 2 знаков после разделителя)? Назовем кросс-валидацию устойчивой, если стандартное отклонение метрики качества на кросс-валидации меньше 1%. Получилась ли кросс-валидация устойчивой при оптимальных сочетаниях гиперпараметров (т.е. обеспечивающих максимум среднего значения ROC AUC на кросс-валидации)?"
      ]
    },
    {
      "metadata": {
        "id": "c1164mnMsYMc",
        "colab_type": "text"
      },
      "cell_type": "markdown",
      "source": [
        "**<font color='red'>Варианты ответа:</font>**\n",
        "- 0.82, нет \n",
        "- 0.84, нет\n",
        "- 0.82, да+\n",
        "- 0.84, да"
      ]
    },
    {
      "metadata": {
        "id": "vd3NneuSsYMf",
        "colab_type": "code",
        "colab": {
          "autoexec": {
            "startup": false,
            "wait_interval": 0
          },
          "output_extras": [
            {
              "item_id": 1
            }
          ],
          "base_uri": "https://localhost:8080/",
          "height": 221
        },
        "outputId": "44a99f2b-f4c3-4cdd-c796-f94b675b20f7",
        "executionInfo": {
          "status": "ok",
          "timestamp": 1521310136957,
          "user_tz": -300,
          "elapsed": 9123,
          "user": {
            "displayName": "Алиса ф",
            "photoUrl": "https://lh3.googleusercontent.com/a/default-user=s128",
            "userId": "109323808846749119431"
          }
        }
      },
      "cell_type": "code",
      "source": [
        "grid_tree = GridSearchCV(dt, tree_params, scoring=\"roc_auc\", cv=skf)\n",
        "grid_tree.fit(X, y)"
      ],
      "execution_count": 82,
      "outputs": [
        {
          "output_type": "execute_result",
          "data": {
            "text/plain": [
              "GridSearchCV(cv=StratifiedKFold(n_splits=5, random_state=17, shuffle=True),\n",
              "       error_score='raise',\n",
              "       estimator=DecisionTreeClassifier(class_weight='balanced', criterion='gini',\n",
              "            max_depth=None, max_features=None, max_leaf_nodes=None,\n",
              "            min_impurity_decrease=0.0, min_impurity_split=None,\n",
              "            min_samples_leaf=1, min_samples_split=2,\n",
              "            min_weight_fraction_leaf=0.0, presort=False, random_state=17,\n",
              "            splitter='best'),\n",
              "       fit_params=None, iid=True, n_jobs=1,\n",
              "       param_grid={'max_depth': [5, 6, 7, 8, 9], 'max_features': [4, 5, 6, 7]},\n",
              "       pre_dispatch='2*n_jobs', refit=True, return_train_score='warn',\n",
              "       scoring='roc_auc', verbose=0)"
            ]
          },
          "metadata": {
            "tags": []
          },
          "execution_count": 82
        }
      ]
    },
    {
      "metadata": {
        "id": "UILMYKmPCDRL",
        "colab_type": "code",
        "colab": {
          "autoexec": {
            "startup": false,
            "wait_interval": 0
          },
          "output_extras": [
            {
              "item_id": 1
            }
          ],
          "base_uri": "https://localhost:8080/",
          "height": 34
        },
        "outputId": "ea1b14b9-5ab1-4891-d3ef-e1a0651a2950",
        "executionInfo": {
          "status": "ok",
          "timestamp": 1521309220504,
          "user_tz": -300,
          "elapsed": 743,
          "user": {
            "displayName": "Алиса ф",
            "photoUrl": "https://lh3.googleusercontent.com/a/default-user=s128",
            "userId": "109323808846749119431"
          }
        }
      },
      "cell_type": "code",
      "source": [
        "grid_tree.best_params_"
      ],
      "execution_count": 67,
      "outputs": [
        {
          "output_type": "execute_result",
          "data": {
            "text/plain": [
              "{'max_depth': 7, 'max_features': 6}"
            ]
          },
          "metadata": {
            "tags": []
          },
          "execution_count": 67
        }
      ]
    },
    {
      "metadata": {
        "id": "irxVuTQKCJ7n",
        "colab_type": "code",
        "colab": {
          "autoexec": {
            "startup": false,
            "wait_interval": 0
          },
          "output_extras": [
            {
              "item_id": 1
            }
          ],
          "base_uri": "https://localhost:8080/",
          "height": 34
        },
        "outputId": "68230716-5f80-45f9-f35c-ab222b5c3772",
        "executionInfo": {
          "status": "ok",
          "timestamp": 1521312635055,
          "user_tz": -300,
          "elapsed": 788,
          "user": {
            "displayName": "Алиса ф",
            "photoUrl": "https://lh3.googleusercontent.com/a/default-user=s128",
            "userId": "109323808846749119431"
          }
        }
      },
      "cell_type": "code",
      "source": [
        "round(grid_tree.best_score_, 2)"
      ],
      "execution_count": 96,
      "outputs": [
        {
          "output_type": "execute_result",
          "data": {
            "text/plain": [
              "0.82"
            ]
          },
          "metadata": {
            "tags": []
          },
          "execution_count": 96
        }
      ]
    },
    {
      "metadata": {
        "id": "8p4lIbFVkHeR",
        "colab_type": "code",
        "colab": {
          "autoexec": {
            "startup": false,
            "wait_interval": 0
          },
          "output_extras": [
            {
              "item_id": 1
            }
          ],
          "base_uri": "https://localhost:8080/",
          "height": 34
        },
        "outputId": "fa1c74b9-b332-497c-f0f0-e4218558407a",
        "executionInfo": {
          "status": "ok",
          "timestamp": 1521318438657,
          "user_tz": -300,
          "elapsed": 735,
          "user": {
            "displayName": "Алиса ф",
            "photoUrl": "https://lh3.googleusercontent.com/a/default-user=s128",
            "userId": "109323808846749119431"
          }
        }
      },
      "cell_type": "code",
      "source": [
        "stds = grid_tree.cv_results_['std_test_score'][grid_tree.best_index_]*100\n",
        "stds"
      ],
      "execution_count": 119,
      "outputs": [
        {
          "output_type": "execute_result",
          "data": {
            "text/plain": [
              "0.2758483553592935"
            ]
          },
          "metadata": {
            "tags": []
          },
          "execution_count": 119
        }
      ]
    },
    {
      "metadata": {
        "id": "sOFG5p4YsYMr",
        "colab_type": "text"
      },
      "cell_type": "markdown",
      "source": [
        "# Простая реализация случайного леса"
      ]
    },
    {
      "metadata": {
        "id": "wJRUsoPDsYMu",
        "colab_type": "text"
      },
      "cell_type": "markdown",
      "source": [
        "**<font color='red'>Задание 4.</font>**\n",
        "Реализуйте свой собственный случайный лес с помощью `DecisionTreeClassifier` с лучшими параметрами из прошлого задания. В нашем лесу будет 10 деревьев, предсказанные вероятности которых вам нужно усреднить. \n",
        "\n",
        "Краткая спецификация: \n",
        " - Используйте основу ниже\n",
        " - В методе `fit` в цикле (`i` от 0 до `n_estimators-1`) фиксируйте seed, равный (`random_state + i`). Почему именно так – неважно, главное чтоб на каждой итерации seed был новый, при этом все значения можно было бы воспроизвести\n",
        " - Зафиксировав seed, выберите **без замещения** `max_features` признаков, сохраните список выбранных id признаков в `self.feat_ids_by_tree`\n",
        " - Также сделайте bootstrap-выборку (т.е. **с замещением**) из множества id объектов \n",
        " - Обучите дерево с теми же `max_depth`, `max_features` и `random_state`, что и у `RandomForestClassifierCustom` на выборке с нужным подмножеством объектов и признаков\n",
        " - Метод `fit` возвращает текущий экземпляр класса `RandomForestClassifierCustom`, то есть `self`\n",
        " - В методе `predict_proba` опять нужен цикл по всем деревьям. У тестовой выборки нужно взять те признаки, на которых соответсвующее дерево обучалось, и сделать прогноз вероятностей (`predict_proba` уже для дерева). Метод должен вернуть усреднение прогнозов по всем деревьям.\n",
        "\n",
        "Проведите кросс-валидацию. Какое получилось среднее значение ROC AUC на кросс-валидации? Выберите самое близкое значение.\n",
        "\n",
        "**<font color='red'>Варианты ответа:</font>**\n",
        "- 0.823\n",
        "- 0.833\n",
        "- 0.843\n",
        "- 0.853"
      ]
    },
    {
      "metadata": {
        "id": "T-IxcZVVsYMw",
        "colab_type": "code",
        "colab": {
          "autoexec": {
            "startup": false,
            "wait_interval": 0
          }
        }
      },
      "cell_type": "code",
      "source": [
        "from sklearn.model_selection import cross_val_score\n",
        "\n",
        "from sklearn.base import BaseEstimator\n",
        "\n",
        "class RandomForestClassifierCustom(BaseEstimator):\n",
        "    def __init__(self, n_estimators=10, max_depth=7, max_features=6, random_state=17):\n",
        "        self.n_estimators = n_estimators\n",
        "        self.max_depth = max_depth\n",
        "        self.max_features = max_features\n",
        "        self.random_state = random_state\n",
        "        # в данном списке будем хранить отдельные деревья\n",
        "        self.trees = []\n",
        "        # тут будем хранить списки индексов признаков, на которых обучалось каждое дерево \n",
        "        self.feat_ids_by_tree = []\n",
        "        \n",
        "    def fit(self, X, y):\n",
        "        \n",
        "        \n",
        "    \n",
        "    def predict_proba(self, X):\n",
        "        \n",
        "        # Ваш код здесь\n",
        "        pass"
      ],
      "execution_count": 0,
      "outputs": []
    },
    {
      "metadata": {
        "id": "IX00zEbNsYM7",
        "colab_type": "code",
        "colab": {
          "autoexec": {
            "startup": false,
            "wait_interval": 0
          }
        }
      },
      "cell_type": "code",
      "source": [
        "# Ваш код здесь"
      ],
      "execution_count": 0,
      "outputs": []
    },
    {
      "metadata": {
        "id": "KX80EMTUsYNK",
        "colab_type": "text"
      },
      "cell_type": "markdown",
      "source": [
        "**<font color='red'>Задание 5.</font>**\n",
        "Тут сравним нашу собственную реализацию случайного леса с `sklearn`-овской. Для этого воспользуйтесь `RandomForestClassifier(n_jobs=1, random_state=17)`, укажите все те же значения `max_depth` и `max_features`, что и раньше. Какое среднее значение ROC AUC на кросс-валидации мы в итоге получили? Выберите самое близкое значение.\n",
        "\n",
        "**<font color='red'>Варианты ответа:</font>**\n",
        "- 0.823\n",
        "- 0.833+\n",
        "- 0.843\n",
        "- 0.853"
      ]
    },
    {
      "metadata": {
        "id": "wolpM11HsYNR",
        "colab_type": "code",
        "colab": {
          "autoexec": {
            "startup": false,
            "wait_interval": 0
          },
          "output_extras": [
            {
              "item_id": 1
            }
          ],
          "base_uri": "https://localhost:8080/",
          "height": 34
        },
        "outputId": "cafd08ff-fba5-4cfe-a4ea-5e963c789926",
        "executionInfo": {
          "status": "ok",
          "timestamp": 1521315774738,
          "user_tz": -300,
          "elapsed": 3615,
          "user": {
            "displayName": "Алиса ф",
            "photoUrl": "https://lh3.googleusercontent.com/a/default-user=s128",
            "userId": "109323808846749119431"
          }
        }
      },
      "cell_type": "code",
      "source": [
        "import numpy as np\n",
        "from sklearn.ensemble import RandomForestClassifier\n",
        "forest = RandomForestClassifier(n_jobs=1, random_state=17, max_depth = 7, max_features=6 )\n",
        "forest.fit(X, y)\n",
        "np.mean(cross_val_score(forest, X, y, scoring='roc_auc', cv=skf))"
      ],
      "execution_count": 109,
      "outputs": [
        {
          "output_type": "execute_result",
          "data": {
            "text/plain": [
              "0.830519720262196"
            ]
          },
          "metadata": {
            "tags": []
          },
          "execution_count": 109
        }
      ]
    },
    {
      "metadata": {
        "id": "lAbr6ingsYNi",
        "colab_type": "text"
      },
      "cell_type": "markdown",
      "source": [
        "# Случайный лес `sklearn`, подбор гиперпараметров"
      ]
    },
    {
      "metadata": {
        "id": "zWCU7w5tsYNj",
        "colab_type": "text"
      },
      "cell_type": "markdown",
      "source": [
        "**<font color='red'>Задание 6.</font>** \n",
        "В 3 задании мы находили оптимальные гиперпараметры для одного дерева, но может быть, для ансамбля эти параметры дерева не будут оптимальными. Давайте проверим это с помощью `GridSearchCV` `(RandomForestClassifier(random_state=17)`).  Только теперь расширим перебираемые значения `max_depth` до 15 включительно, так как в лесу нужны деревья поглубже (а почему именно – вы поняли из [статьи](https://habrahabr.ru/company/ods/blog/324402/)). Какими теперь стали лучшие значения гиперпараметров?\n",
        "\n",
        "**<font color='red'>Варианты ответа:</font>**\n",
        "- `max_depth=8, max_features=4` +\n",
        "- `max_depth=9, max_features=5`\n",
        "- `max_depth=10, max_features=6`\n",
        "- `max_depth=11, max_features=7`"
      ]
    },
    {
      "metadata": {
        "id": "WJ_KbO3VsYNo",
        "colab_type": "code",
        "colab": {
          "autoexec": {
            "startup": false,
            "wait_interval": 0
          }
        }
      },
      "cell_type": "code",
      "source": [
        "max_depth_values = range(5, 16)\n",
        "max_features_values = range(4, 8)\n",
        "forest_params = {'max_depth': max_depth_values,\n",
        "               'max_features': max_features_values}"
      ],
      "execution_count": 0,
      "outputs": []
    },
    {
      "metadata": {
        "id": "FmWVoLv1sYOG",
        "colab_type": "code",
        "colab": {
          "autoexec": {
            "startup": false,
            "wait_interval": 0
          },
          "output_extras": [
            {
              "item_id": 1
            }
          ],
          "base_uri": "https://localhost:8080/",
          "height": 34
        },
        "outputId": "f628e7e3-8488-4caf-fb19-24d6d905b095",
        "executionInfo": {
          "status": "ok",
          "timestamp": 1521311612972,
          "user_tz": -300,
          "elapsed": 133181,
          "user": {
            "displayName": "Алиса ф",
            "photoUrl": "https://lh3.googleusercontent.com/a/default-user=s128",
            "userId": "109323808846749119431"
          }
        }
      },
      "cell_type": "code",
      "source": [
        "grid_forest = GridSearchCV(RandomForestClassifier(random_state=17), forest_params, scoring=\"roc_auc\", cv=skf)\n",
        "grid_forest.fit(X, y)\n",
        "grid_forest.best_params_"
      ],
      "execution_count": 92,
      "outputs": [
        {
          "output_type": "execute_result",
          "data": {
            "text/plain": [
              "{'max_depth': 8, 'max_features': 4}"
            ]
          },
          "metadata": {
            "tags": []
          },
          "execution_count": 92
        }
      ]
    },
    {
      "metadata": {
        "id": "u7o-jCmhsYOT",
        "colab_type": "text"
      },
      "cell_type": "markdown",
      "source": [
        "# Логистическая регрессия, подбор гиперпараметров"
      ]
    },
    {
      "metadata": {
        "id": "46Lb37jmsYOZ",
        "colab_type": "text"
      },
      "cell_type": "markdown",
      "source": [
        "**<font color='red'>Задание 7.</font>**  Теперь сравним с логистической регрессией (укажем `class_weight='balanced'` и `random_state=17`). Сделайте полный перебор по параметру `C` из широкого диапазона значений `np.logspace(-8, 8, 17)`. \n",
        "Только сделаем это корректно и выстроим пайплайн – сначала масштабирование, затем обучение модели. \n",
        "\n",
        "Разберитесь с пайплайнами и проведите кросс-валидацию. Какое получилось лучшее значение средней ROC AUC? Выберите самое близкое значение.\n",
        "\n",
        "**<font color='red'>Варианты ответа:</font>**\n",
        "- 0.778\n",
        "- 0.788\n",
        "- 0.798\n",
        "- 0.808"
      ]
    },
    {
      "metadata": {
        "id": "Pa6m-T90sYOe",
        "colab_type": "code",
        "colab": {
          "autoexec": {
            "startup": false,
            "wait_interval": 0
          }
        }
      },
      "cell_type": "code",
      "source": [
        "from sklearn.pipeline import Pipeline\n",
        "from sklearn.preprocessing import StandardScaler\n",
        "from sklearn.linear_model import LogisticRegression\n",
        "\n",
        "scaler = StandardScaler()\n",
        "logit = LogisticRegression(random_state=17, class_weight='balanced')\n",
        "\n",
        "logit_pipe = Pipeline([('scaler', scaler), ('logit', logit)])\n",
        "logit_pipe_params = {'logit__C': np.logspace(-8, 8, 17)}"
      ],
      "execution_count": 0,
      "outputs": []
    },
    {
      "metadata": {
        "id": "MoPGxrpEsYO5",
        "colab_type": "code",
        "colab": {
          "autoexec": {
            "startup": false,
            "wait_interval": 0
          }
        }
      },
      "cell_type": "code",
      "source": [
        "# Ваш код здесь"
      ],
      "execution_count": 0,
      "outputs": []
    },
    {
      "metadata": {
        "id": "EKp0zyehsYPC",
        "colab_type": "text"
      },
      "cell_type": "markdown",
      "source": [
        "# Логистическая регрессия и случайный лес на разреженных признаках"
      ]
    },
    {
      "metadata": {
        "id": "VvSwWZ10sYPF",
        "colab_type": "text"
      },
      "cell_type": "markdown",
      "source": [
        "В случае небольшого числа признаков случайный лес показал себя лучше логистической регрессии. Однако один из главных недостатков деревьев проявляется при работе с разреженным данными, например с текстами. Давайте сравним логистическую регрессию и случайный лес в новой задаче.\n",
        "Скачайте данные с отзывами к фильмам [отсюда](https://drive.google.com/open?id=12OPgwkx5Q63iqxXGR3MqZQpiMev_aB7g)."
      ]
    },
    {
      "metadata": {
        "id": "SXla4hfpsYPU",
        "colab_type": "code",
        "colab": {
          "autoexec": {
            "startup": false,
            "wait_interval": 0
          },
          "output_extras": [
            {}
          ]
        },
        "outputId": "46f7913e-588e-4b9a-8a3e-6dc5804f01b1"
      },
      "cell_type": "code",
      "source": [
        "# Загрузим данные\n",
        "df = pd.read_csv(\"../../data/movie_reviews_train.csv\", nrows=50000)\n",
        "\n",
        "# Разделим данные на текст и целевой признак\n",
        "X_text = df[\"text\"]\n",
        "y_text = df[\"label\"]\n",
        "\n",
        "# Соотношения классов\n",
        "df.label.value_counts()"
      ],
      "execution_count": 0,
      "outputs": [
        {
          "output_type": "execute_result",
          "data": {
            "text/plain": [
              "1    32492\n",
              "0    17508\n",
              "Name: label, dtype: int64"
            ]
          },
          "metadata": {
            "tags": []
          },
          "execution_count": 23
        }
      ]
    },
    {
      "metadata": {
        "id": "uYnaHTUJsYPg",
        "colab_type": "code",
        "colab": {
          "autoexec": {
            "startup": false,
            "wait_interval": 0
          }
        }
      },
      "cell_type": "code",
      "source": [
        "from sklearn.feature_extraction.text import CountVectorizer\n",
        "from sklearn.pipeline import Pipeline\n",
        "\n",
        "# будем разбивать на 3 фолда\n",
        "skf = StratifiedKFold(n_splits=3, shuffle=True, random_state=17)\n",
        "\n",
        "# в Pipeline будем сразу преобразовать наш текст и обучать логистическую регрессию\n",
        "classifier = Pipeline([\n",
        "    ('vectorizer', CountVectorizer(max_features = 100000, ngram_range = (1, 3))),\n",
        "    ('clf', LogisticRegression(random_state=17))])"
      ],
      "execution_count": 0,
      "outputs": []
    },
    {
      "metadata": {
        "id": "syCSoCo0sYPp",
        "colab_type": "text"
      },
      "cell_type": "markdown",
      "source": [
        "**<font color='red'>Задание 8.</font>** Сделайте полный перебор по параметру `C` из выборки [0.1, 1, 10, 100]. Какое лучшее значение ROC AUC получилось на кросс-валидации? Выберите самое близкое значение.\n",
        "\n",
        "**<font color='red'>Варианты ответа:</font>**\n",
        "- 0.74\n",
        "- 0.75\n",
        "- 0.84\n",
        "- 0.85"
      ]
    },
    {
      "metadata": {
        "id": "ZQ-O0LqxsYPs",
        "colab_type": "code",
        "colab": {
          "autoexec": {
            "startup": false,
            "wait_interval": 0
          }
        }
      },
      "cell_type": "code",
      "source": [
        "# Ваш код здесь"
      ],
      "execution_count": 0,
      "outputs": []
    },
    {
      "metadata": {
        "id": "Gb4jAJfLsYP0",
        "colab_type": "text"
      },
      "cell_type": "markdown",
      "source": [
        "**<font color='red'>Задание 9.</font>** Теперь попробуем сравнить со случайным лесом. Аналогично делаем перебор и получаем максимальное ROC AUC. Выберите самое близкое значение.\n",
        "\n",
        "**<font color='red'>Варианты ответа:</font>**\n",
        "- 0.74\n",
        "- 0.75\n",
        "- 0.84\n",
        "- 0.85"
      ]
    },
    {
      "metadata": {
        "id": "mKAOcVCGsYP2",
        "colab_type": "code",
        "colab": {
          "autoexec": {
            "startup": false,
            "wait_interval": 0
          }
        }
      },
      "cell_type": "code",
      "source": [
        "classifier = Pipeline([\n",
        "    ('vectorizer', CountVectorizer(max_features=100000, ngram_range=(1, 3))),\n",
        "    ('clf', RandomForestClassifier(random_state=17, n_jobs=-1))])\n",
        "\n",
        "min_samples_leaf = [1, 2, 3]\n",
        "max_features = [0.3, 0.5, 0.7]\n",
        "max_depth = [None]"
      ],
      "execution_count": 0,
      "outputs": []
    },
    {
      "metadata": {
        "id": "aknNaa09sYP-",
        "colab_type": "code",
        "colab": {
          "autoexec": {
            "startup": false,
            "wait_interval": 0
          }
        }
      },
      "cell_type": "code",
      "source": [
        "# Ваш код здесь"
      ],
      "execution_count": 0,
      "outputs": []
    }
  ]
}