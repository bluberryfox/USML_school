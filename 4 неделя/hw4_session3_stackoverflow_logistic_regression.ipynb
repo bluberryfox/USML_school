{
 "cells": [
  {
   "cell_type": "markdown",
   "metadata": {},
   "source": [
    "<center>\n",
    "<img src=\"../../img/ods_stickers.jpg\">\n",
    "## Открытый курс по машинному обучению. Сессия № 3\n",
    "Автор материала: Павел Нестеров (@mephistopheies). Материал распространяется на условиях лицензии [Creative Commons CC BY-NC-SA 4.0](https://creativecommons.org/licenses/by-nc-sa/4.0/). Можно использовать в любых целях (редактировать, поправлять и брать за основу), кроме коммерческих, но с обязательным упоминанием автора материала."
   ]
  },
  {
   "cell_type": "markdown",
   "metadata": {},
   "source": [
    "# <center> Домашняя работа №4\n",
    "## <center> Логистическая регрессия в задаче тегирования вопросов StackOverflow\n",
    "\n",
    "**Надо вывести формулы, где это просится (да, ручка и бумажка), заполнить код в клетках и выбрать ответы в [веб-форме](https://docs.google.com/forms/d/100c3Ek94UL-VRwXrN4lxCSnGjfJrl6Gc96G21DNCh4w).**\n",
    "\n",
    "## 0. Описание задачи\n",
    "\n",
    "В этой домашней работе мы с вами изучим и запрограммируем модель для прогнозирования тегов по тексту вопроса на базе многоклассовой логистической регрессии. В отличие от обычной постановки задачи классификации (multiclass), в данном случае один пример может принадлежать одновременно к нескольким классам (multilabel). Мы будем реализовывать онлайн-версию алгоритма multilabel-классификации.\n",
    "\n",
    "Мы будем использовать небольшую выборку из протеггированных вопросов с сайта StackOverflow размером в 125 тысяч примеров (около 150 Мб, скачайте по [этой](https://drive.google.com/open?id=0B4bl7YMqDnViYVo0V2FubFVhMFE) ссылке).\n",
    "\n",
    "PS: Можно показать, что такая реализация совсем не эффективная и проще было бы использовать векторизированные вычисления. Для данного датасета так и есть. Но на самом деле подобные реализации используются в жизни, но естественно, написаны они не на Python. Например, в онлайн-моделях прогнозирования [CTR](https://en.wikipedia.org/wiki/Click-through_rate) юзеру показывается баннер, затем в зависимости от наличия клика происходит обновление параметров модели. В реальной жизни параметров модели может быть несколько сотен миллионов, а у юзера из этих ста миллионов от силы сто или тысяча параметров отличны от нуля, векторизировать такие вычисления не очень эффективно. Обычно все это хранится в огромных кластерах в in-memory базах данных, а обработка пользователей происходит распределенно.\n",
    "\n",
    "PS2:\n",
    "- в процессе решения домашней работы вам придется работать с текстом, и у вас может возникнуть желание сделать очевидный препроцессинг, например привести все слова в нижний регистр, в-общем **этого делать не нужно, если не оговорено заранее в задании**"
   ]
  },
  {
   "cell_type": "code",
   "execution_count": 1,
   "metadata": {
    "collapsed": false
   },
<<<<<<< HEAD
   "outputs": [
    {
     "name": "stdout",
     "output_type": "stream",
     "text": [
      "Requirement already satisfied: watermark in c:\\users\\user\\anaconda3\\lib\\site-packages\n",
      "Requirement already satisfied: ipython in c:\\users\\user\\anaconda3\\lib\\site-packages (from watermark)\n"
     ]
    }
   ],
   "source": [
    "!pip install watermark\n",
=======
   "outputs": [],
   "source": [
    "#!pip install watermark\n",
>>>>>>> d66f03f457dea84c20d5d01137e89af691fb23e6
    "%load_ext watermark"
   ]
  },
  {
   "cell_type": "markdown",
   "metadata": {},
   "source": [
    "Выведем версии используемых библиотек. Совпадут ли ответы в случае других версий - не гарантируется."
   ]
  },
  {
   "cell_type": "code",
   "execution_count": 2,
   "metadata": {
    "collapsed": false
   },
   "outputs": [
    {
     "ename": "FileNotFoundError",
     "evalue": "[WinError 2] Не удается найти указанный файл",
     "output_type": "error",
     "traceback": [
      "\u001b[1;31m---------------------------------------------------------------------------\u001b[0m",
      "\u001b[1;31mFileNotFoundError\u001b[0m                         Traceback (most recent call last)",
      "\u001b[1;32m<ipython-input-2-8ede756c42f4>\u001b[0m in \u001b[0;36m<module>\u001b[1;34m()\u001b[0m\n\u001b[1;32m----> 1\u001b[1;33m \u001b[0mget_ipython\u001b[0m\u001b[1;33m(\u001b[0m\u001b[1;33m)\u001b[0m\u001b[1;33m.\u001b[0m\u001b[0mmagic\u001b[0m\u001b[1;33m(\u001b[0m\u001b[1;34m'watermark -v -m -p numpy,scipy,pandas,matplotlib,sklearn -g'\u001b[0m\u001b[1;33m)\u001b[0m\u001b[1;33m\u001b[0m\u001b[0m\n\u001b[0m",
      "\u001b[1;32mC:\\Users\\user\\Anaconda3\\lib\\site-packages\\IPython\\core\\interactiveshell.py\u001b[0m in \u001b[0;36mmagic\u001b[1;34m(self, arg_s)\u001b[0m\n\u001b[0;32m   2161\u001b[0m         \u001b[0mmagic_name\u001b[0m\u001b[1;33m,\u001b[0m \u001b[0m_\u001b[0m\u001b[1;33m,\u001b[0m \u001b[0mmagic_arg_s\u001b[0m \u001b[1;33m=\u001b[0m \u001b[0marg_s\u001b[0m\u001b[1;33m.\u001b[0m\u001b[0mpartition\u001b[0m\u001b[1;33m(\u001b[0m\u001b[1;34m' '\u001b[0m\u001b[1;33m)\u001b[0m\u001b[1;33m\u001b[0m\u001b[0m\n\u001b[0;32m   2162\u001b[0m         \u001b[0mmagic_name\u001b[0m \u001b[1;33m=\u001b[0m \u001b[0mmagic_name\u001b[0m\u001b[1;33m.\u001b[0m\u001b[0mlstrip\u001b[0m\u001b[1;33m(\u001b[0m\u001b[0mprefilter\u001b[0m\u001b[1;33m.\u001b[0m\u001b[0mESC_MAGIC\u001b[0m\u001b[1;33m)\u001b[0m\u001b[1;33m\u001b[0m\u001b[0m\n\u001b[1;32m-> 2163\u001b[1;33m         \u001b[1;32mreturn\u001b[0m \u001b[0mself\u001b[0m\u001b[1;33m.\u001b[0m\u001b[0mrun_line_magic\u001b[0m\u001b[1;33m(\u001b[0m\u001b[0mmagic_name\u001b[0m\u001b[1;33m,\u001b[0m \u001b[0mmagic_arg_s\u001b[0m\u001b[1;33m)\u001b[0m\u001b[1;33m\u001b[0m\u001b[0m\n\u001b[0m\u001b[0;32m   2164\u001b[0m \u001b[1;33m\u001b[0m\u001b[0m\n\u001b[0;32m   2165\u001b[0m     \u001b[1;31m#-------------------------------------------------------------------------\u001b[0m\u001b[1;33m\u001b[0m\u001b[1;33m\u001b[0m\u001b[0m\n",
      "\u001b[1;32mC:\\Users\\user\\Anaconda3\\lib\\site-packages\\IPython\\core\\interactiveshell.py\u001b[0m in \u001b[0;36mrun_line_magic\u001b[1;34m(self, magic_name, line)\u001b[0m\n\u001b[0;32m   2082\u001b[0m                 \u001b[0mkwargs\u001b[0m\u001b[1;33m[\u001b[0m\u001b[1;34m'local_ns'\u001b[0m\u001b[1;33m]\u001b[0m \u001b[1;33m=\u001b[0m \u001b[0msys\u001b[0m\u001b[1;33m.\u001b[0m\u001b[0m_getframe\u001b[0m\u001b[1;33m(\u001b[0m\u001b[0mstack_depth\u001b[0m\u001b[1;33m)\u001b[0m\u001b[1;33m.\u001b[0m\u001b[0mf_locals\u001b[0m\u001b[1;33m\u001b[0m\u001b[0m\n\u001b[0;32m   2083\u001b[0m             \u001b[1;32mwith\u001b[0m \u001b[0mself\u001b[0m\u001b[1;33m.\u001b[0m\u001b[0mbuiltin_trap\u001b[0m\u001b[1;33m:\u001b[0m\u001b[1;33m\u001b[0m\u001b[0m\n\u001b[1;32m-> 2084\u001b[1;33m                 \u001b[0mresult\u001b[0m \u001b[1;33m=\u001b[0m \u001b[0mfn\u001b[0m\u001b[1;33m(\u001b[0m\u001b[1;33m*\u001b[0m\u001b[0margs\u001b[0m\u001b[1;33m,\u001b[0m\u001b[1;33m**\u001b[0m\u001b[0mkwargs\u001b[0m\u001b[1;33m)\u001b[0m\u001b[1;33m\u001b[0m\u001b[0m\n\u001b[0m\u001b[0;32m   2085\u001b[0m             \u001b[1;32mreturn\u001b[0m \u001b[0mresult\u001b[0m\u001b[1;33m\u001b[0m\u001b[0m\n\u001b[0;32m   2086\u001b[0m \u001b[1;33m\u001b[0m\u001b[0m\n",
      "\u001b[1;32m<decorator-gen-125>\u001b[0m in \u001b[0;36mwatermark\u001b[1;34m(self, line)\u001b[0m\n",
      "\u001b[1;32mC:\\Users\\user\\Anaconda3\\lib\\site-packages\\IPython\\core\\magic.py\u001b[0m in \u001b[0;36m<lambda>\u001b[1;34m(f, *a, **k)\u001b[0m\n\u001b[0;32m    191\u001b[0m     \u001b[1;31m# but it's overkill for just that one bit of state.\u001b[0m\u001b[1;33m\u001b[0m\u001b[1;33m\u001b[0m\u001b[0m\n\u001b[0;32m    192\u001b[0m     \u001b[1;32mdef\u001b[0m \u001b[0mmagic_deco\u001b[0m\u001b[1;33m(\u001b[0m\u001b[0marg\u001b[0m\u001b[1;33m)\u001b[0m\u001b[1;33m:\u001b[0m\u001b[1;33m\u001b[0m\u001b[0m\n\u001b[1;32m--> 193\u001b[1;33m         \u001b[0mcall\u001b[0m \u001b[1;33m=\u001b[0m \u001b[1;32mlambda\u001b[0m \u001b[0mf\u001b[0m\u001b[1;33m,\u001b[0m \u001b[1;33m*\u001b[0m\u001b[0ma\u001b[0m\u001b[1;33m,\u001b[0m \u001b[1;33m**\u001b[0m\u001b[0mk\u001b[0m\u001b[1;33m:\u001b[0m \u001b[0mf\u001b[0m\u001b[1;33m(\u001b[0m\u001b[1;33m*\u001b[0m\u001b[0ma\u001b[0m\u001b[1;33m,\u001b[0m \u001b[1;33m**\u001b[0m\u001b[0mk\u001b[0m\u001b[1;33m)\u001b[0m\u001b[1;33m\u001b[0m\u001b[0m\n\u001b[0m\u001b[0;32m    194\u001b[0m \u001b[1;33m\u001b[0m\u001b[0m\n\u001b[0;32m    195\u001b[0m         \u001b[1;32mif\u001b[0m \u001b[0mcallable\u001b[0m\u001b[1;33m(\u001b[0m\u001b[0marg\u001b[0m\u001b[1;33m)\u001b[0m\u001b[1;33m:\u001b[0m\u001b[1;33m\u001b[0m\u001b[0m\n",
      "\u001b[1;32mC:\\Users\\user\\Anaconda3\\lib\\site-packages\\watermark\\watermark.py\u001b[0m in \u001b[0;36mwatermark\u001b[1;34m(self, line)\u001b[0m\n\u001b[0;32m    127\u001b[0m                 \u001b[0mself\u001b[0m\u001b[1;33m.\u001b[0m\u001b[0mout\u001b[0m \u001b[1;33m+=\u001b[0m \u001b[1;34m'\\nhost name%s: %s'\u001b[0m \u001b[1;33m%\u001b[0m \u001b[1;33m(\u001b[0m\u001b[0mspace\u001b[0m\u001b[1;33m,\u001b[0m \u001b[0mgethostname\u001b[0m\u001b[1;33m(\u001b[0m\u001b[1;33m)\u001b[0m\u001b[1;33m)\u001b[0m\u001b[1;33m\u001b[0m\u001b[0m\n\u001b[0;32m    128\u001b[0m             \u001b[1;32mif\u001b[0m \u001b[0margs\u001b[0m\u001b[1;33m.\u001b[0m\u001b[0mgithash\u001b[0m\u001b[1;33m:\u001b[0m\u001b[1;33m\u001b[0m\u001b[0m\n\u001b[1;32m--> 129\u001b[1;33m                 \u001b[0mself\u001b[0m\u001b[1;33m.\u001b[0m\u001b[0m_get_commit_hash\u001b[0m\u001b[1;33m(\u001b[0m\u001b[0mbool\u001b[0m\u001b[1;33m(\u001b[0m\u001b[0margs\u001b[0m\u001b[1;33m.\u001b[0m\u001b[0mmachine\u001b[0m\u001b[1;33m)\u001b[0m\u001b[1;33m)\u001b[0m\u001b[1;33m\u001b[0m\u001b[0m\n\u001b[0m\u001b[0;32m    130\u001b[0m             \u001b[1;32mif\u001b[0m \u001b[0margs\u001b[0m\u001b[1;33m.\u001b[0m\u001b[0mgitrepo\u001b[0m\u001b[1;33m:\u001b[0m\u001b[1;33m\u001b[0m\u001b[0m\n\u001b[0;32m    131\u001b[0m                 \u001b[0mself\u001b[0m\u001b[1;33m.\u001b[0m\u001b[0m_get_git_remote_origin\u001b[0m\u001b[1;33m(\u001b[0m\u001b[0mbool\u001b[0m\u001b[1;33m(\u001b[0m\u001b[0margs\u001b[0m\u001b[1;33m.\u001b[0m\u001b[0mmachine\u001b[0m\u001b[1;33m)\u001b[0m\u001b[1;33m)\u001b[0m\u001b[1;33m\u001b[0m\u001b[0m\n",
      "\u001b[1;32mC:\\Users\\user\\Anaconda3\\lib\\site-packages\\watermark\\watermark.py\u001b[0m in \u001b[0;36m_get_commit_hash\u001b[1;34m(self, machine)\u001b[0m\n\u001b[0;32m    194\u001b[0m         process = subprocess.Popen(['git', 'rev-parse', 'HEAD'],\n\u001b[0;32m    195\u001b[0m                                    \u001b[0mshell\u001b[0m\u001b[1;33m=\u001b[0m\u001b[1;32mFalse\u001b[0m\u001b[1;33m,\u001b[0m\u001b[1;33m\u001b[0m\u001b[0m\n\u001b[1;32m--> 196\u001b[1;33m                                    stdout=subprocess.PIPE)\n\u001b[0m\u001b[0;32m    197\u001b[0m         \u001b[0mgit_head_hash\u001b[0m \u001b[1;33m=\u001b[0m \u001b[0mprocess\u001b[0m\u001b[1;33m.\u001b[0m\u001b[0mcommunicate\u001b[0m\u001b[1;33m(\u001b[0m\u001b[1;33m)\u001b[0m\u001b[1;33m[\u001b[0m\u001b[1;36m0\u001b[0m\u001b[1;33m]\u001b[0m\u001b[1;33m.\u001b[0m\u001b[0mstrip\u001b[0m\u001b[1;33m(\u001b[0m\u001b[1;33m)\u001b[0m\u001b[1;33m\u001b[0m\u001b[0m\n\u001b[0;32m    198\u001b[0m         \u001b[0mspace\u001b[0m \u001b[1;33m=\u001b[0m \u001b[1;34m''\u001b[0m\u001b[1;33m\u001b[0m\u001b[0m\n",
      "\u001b[1;32mC:\\Users\\user\\Anaconda3\\lib\\subprocess.py\u001b[0m in \u001b[0;36m__init__\u001b[1;34m(self, args, bufsize, executable, stdin, stdout, stderr, preexec_fn, close_fds, shell, cwd, env, universal_newlines, startupinfo, creationflags, restore_signals, start_new_session, pass_fds)\u001b[0m\n\u001b[0;32m    674\u001b[0m                                 \u001b[0mc2pread\u001b[0m\u001b[1;33m,\u001b[0m \u001b[0mc2pwrite\u001b[0m\u001b[1;33m,\u001b[0m\u001b[1;33m\u001b[0m\u001b[0m\n\u001b[0;32m    675\u001b[0m                                 \u001b[0merrread\u001b[0m\u001b[1;33m,\u001b[0m \u001b[0merrwrite\u001b[0m\u001b[1;33m,\u001b[0m\u001b[1;33m\u001b[0m\u001b[0m\n\u001b[1;32m--> 676\u001b[1;33m                                 restore_signals, start_new_session)\n\u001b[0m\u001b[0;32m    677\u001b[0m         \u001b[1;32mexcept\u001b[0m\u001b[1;33m:\u001b[0m\u001b[1;33m\u001b[0m\u001b[0m\n\u001b[0;32m    678\u001b[0m             \u001b[1;31m# Cleanup if the child failed starting.\u001b[0m\u001b[1;33m\u001b[0m\u001b[1;33m\u001b[0m\u001b[0m\n",
      "\u001b[1;32mC:\\Users\\user\\Anaconda3\\lib\\subprocess.py\u001b[0m in \u001b[0;36m_execute_child\u001b[1;34m(self, args, executable, preexec_fn, close_fds, pass_fds, cwd, env, startupinfo, creationflags, shell, p2cread, p2cwrite, c2pread, c2pwrite, errread, errwrite, unused_restore_signals, unused_start_new_session)\u001b[0m\n\u001b[0;32m    955\u001b[0m                                          \u001b[0menv\u001b[0m\u001b[1;33m,\u001b[0m\u001b[1;33m\u001b[0m\u001b[0m\n\u001b[0;32m    956\u001b[0m                                          \u001b[0mcwd\u001b[0m\u001b[1;33m,\u001b[0m\u001b[1;33m\u001b[0m\u001b[0m\n\u001b[1;32m--> 957\u001b[1;33m                                          startupinfo)\n\u001b[0m\u001b[0;32m    958\u001b[0m             \u001b[1;32mfinally\u001b[0m\u001b[1;33m:\u001b[0m\u001b[1;33m\u001b[0m\u001b[0m\n\u001b[0;32m    959\u001b[0m                 \u001b[1;31m# Child is launched. Close the parent's copy of those pipe\u001b[0m\u001b[1;33m\u001b[0m\u001b[1;33m\u001b[0m\u001b[0m\n",
      "\u001b[1;31mFileNotFoundError\u001b[0m: [WinError 2] Не удается найти указанный файл"
     ]
    }
   ],
   "source": [
    "%watermark -v -m -p numpy,scipy,pandas,matplotlib,sklearn -g"
   ]
  },
  {
   "cell_type": "code",
<<<<<<< HEAD
   "execution_count": 36,
=======
   "execution_count": 3,
>>>>>>> d66f03f457dea84c20d5d01137e89af691fb23e6
   "metadata": {
    "collapsed": false
   },
   "outputs": [],
   "source": [
    "%matplotlib inline\n",
    "import numpy as np\n",
    "import matplotlib.pyplot as plt\n",
    "import seaborn as sns\n",
    "sns.set_style(\"dark\")\n",
    "plt.rcParams['figure.figsize'] = 16, 12\n",
    "from tqdm import tqdm_notebook\n",
    "import pandas as pd\n",
<<<<<<< HEAD
    "from collections import defaultdict, OrderedDict\n",
    "\n",
    "# поменяйте на свой путь\n",
    "DS_FILE_NAME = 'samples.tsv'\n",
=======
    "from collections import defaultdict\n",
    "\n",
    "# поменяйте на свой путь\n",
    "DS_FILE_NAME = 'stackoverflow_sample_125k.tsv'\n",
>>>>>>> d66f03f457dea84c20d5d01137e89af691fb23e6
    "TAGS_FILE_NAME = 'top10_tags.tsv'"
   ]
  },
  {
   "cell_type": "code",
<<<<<<< HEAD
   "execution_count": 37,
=======
   "execution_count": 4,
>>>>>>> d66f03f457dea84c20d5d01137e89af691fb23e6
   "metadata": {
    "collapsed": false
   },
   "outputs": [
    {
     "name": "stdout",
     "output_type": "stream",
     "text": [
<<<<<<< HEAD
      "{'jquery', 'python', 'c#', 'html', 'java', 'javascript', 'c++', 'ios', 'android', 'php'}\n"
=======
      "{'php', 'c#', 'java', 'ios', 'python', 'c++', 'android', 'jquery', 'html', 'javascript'}\n"
>>>>>>> d66f03f457dea84c20d5d01137e89af691fb23e6
     ]
    }
   ],
   "source": [
    "top_tags = []\n",
    "with open(TAGS_FILE_NAME, 'r') as f:\n",
    "    for line in f:\n",
    "        top_tags.append(line.strip())\n",
    "top_tags = set(top_tags)\n",
    "print(top_tags)"
   ]
  },
  {
   "cell_type": "markdown",
   "metadata": {},
   "source": [
    "## 1. Многоклассовая логистическая регрессия\n",
    "\n",
    "Вспомним, как получается логистическая регрессия для двух классов $\\left\\{0, 1\\right\\}$, вероятность принадлежности объекта к классу $1$ выписывается по теореме Байеса:\n",
    "\n",
    "$$\\large \\begin{array}{rcl}\n",
    "p\\left(c = 1 \\mid \\vec{x}\\right) &=& \\dfrac{p\\left(\\vec{x} \\mid c = 1\\right)p\\left(c = 1\\right)}{p\\left(\\vec{x} \\mid c = 1\\right)p\\left(c = 1\\right) + p\\left(\\vec{x} \\mid c = 0\\right)p\\left(c = 0\\right)} \\\\\n",
    "&=& \\dfrac{1}{1 + e^{-a}} \\\\\n",
    "&=& \\sigma\\left(a\\right)\n",
    "\\end{array}$$\n",
    "где:\n",
    "- $\\vec{x}$ – вектор признаков объекта\n",
    "- $\\sigma$ – обозначение функции логистического сигмоида при скалярном аргументе\n",
    "- $a = \\log \\frac{p\\left(\\vec{x} \\mid c = 1\\right)p\\left(c = 1\\right)}{p\\left(\\vec{x} \\mid c = 0\\right)p\\left(c = 0\\right)} = \\sum_{i=0}^M w_i x_i$ – это отношение мы моделируем линейной функцией от признаков объекта и параметров модели\n",
    "\n",
    "Данное выражение легко обобщить до множества из $K$ классов, изменится только знаменатель в формуле Байеса. Запишем вероятность принадлежности объекта к классу $k$:\n",
    "$$\\large \\begin{array}{rcl}\n",
    "p\\left(c = k \\mid \\vec{x}\\right) &=& \\dfrac{p\\left(\\vec{x} \\mid c = k\\right)p\\left(c = k\\right)}{\\sum_{i=1}^K p\\left(\\vec{x} \\mid c = i\\right)p\\left(c = i\\right)} \\\\\n",
    "&=& \\dfrac{e^{z_k}}{\\sum_{i=1}^{K}e^{z_i}} \\\\\n",
    "&=& \\sigma_k\\left(\\vec{z}\\right)\n",
    "\\end{array}$$\n",
    "где:\n",
    "- $\\sigma_k$ – обозначение функции softmax при векторном аргументе\n",
    "- $z_k = \\log p\\left(\\vec{x} \\mid c = k\\right)p\\left(c = k\\right) = \\sum_{i=0}^M w_{ki} x_i$ – это выражение моделируется линейной функцией от признаков объекта и параметров модели для класса $k$"
   ]
  },
  {
   "cell_type": "markdown",
   "metadata": {},
   "source": [
    "Для моделирования полного правдоподобия примера мы используем [категориальное распределение](https://en.wikipedia.org/wiki/Categorical_distribution), а лучше его логарифм (для удобства):\n",
    "\n",
    "$$\\large \\begin{array}{rcl}\n",
    "\\mathcal{L} = \\log p\\left({\\vec{x}}\\right) &=& \\log \\prod_{i=1}^K \\sigma_i\\left(\\vec{z}\\right)^{y_i} \\\\\n",
    "&=& \\sum_{i=1}^K y_i \\log \\sigma_i\\left(\\vec{z}\\right)\n",
    "\\end{array}$$\n",
    "\n",
    "Получается хорошо знакомая нам функция [cross entropy](https://en.wikipedia.org/wiki/Cross_entropy) (если домножить на $-1$). Правдоподобие нужно максимизировать, а, соответственно, перекрестную энтропию нужно минимизировать. Продифференцировав по параметрам модели, мы _легко_ получим правила обновления весов для градиентного спуска, **проделайте этот вывод, если вы его не делали** (если вы вдруг сдались, то на [этом](https://www.youtube.com/watch?v=-WiR16raQf4) видео есть разбор вывода, понимание этого вам понадобится для дальнейшего выполнения задания; если предпочитаете текст, то и он есть [тут](https://www.ics.uci.edu/~pjsadows/notes.pdf) и [тут](https://eli.thegreenplace.net/2016/the-softmax-function-and-its-derivative/)):\n",
    "\n",
    "$$\\large \\begin{array}{rcl}\n",
    "\\frac{\\partial \\mathcal{L}}{\\partial w_{km}} &=& x_m \\left(y_k - \\sigma_k\\left(\\vec{z}\\right)\\right)\n",
    "\\end{array}$$\n",
    "\n",
    "В стандартной формулировке получается, что вектор $\\left(\\sigma_1, \\sigma_2, \\ldots, \\sigma_K\\right)$ образует дискретное вероятностное распределение, т.е. $\\sum_{i=1}^K \\sigma_i = 1$. Но в нашей постановке задачи каждый пример может иметь несколько тегов или одновременно принадлежать к нескольким классам. Для этого мы немного изменим модель:\n",
    "- будем считать, что все теги независимы друг от друга, т.е. каждый исход – это логистическая регрессия на два класса (либо есть тег, либо его нет), тогда вероятность наличия тега у примера запишется следующим образом (каждый тег/класс как и в многоклассовой логрегрессии имеет свой набор параметров):\n",
    "$$\\large p\\left(\\text{tag}_k \\mid \\vec{x}\\right) = \\sigma\\left(z_k\\right) = \\sigma\\left(\\sum_{i=1}^M w_{ki} x^i \\right)$$\n",
    "- наличие каждого тега мы будем моделировать с помощью <a href=\"https://en.wikipedia.org/wiki/Bernoulli_distribution\">распределения Бернулли</a>\n",
    "\n",
    "<font color=\"red\">Вопрос 1.</font> Ваше первое задание –  записать упрощенное выражение логарифма правдоподобия примера с признаками $\\vec{x}$. Как правило, многие алгоритмы оптимизации имеют интерфейс для минимизации функции, мы последуем этой же традиции и домножим полученное выражение на $-1$, а во второй части выведем формулы для минимизации полученного выражения."
   ]
  },
  {
   "cell_type": "markdown",
   "metadata": {},
   "source": [
    "<font color=\"red\">Варианты ответа:</font>\n",
    "1. $\\large -\\mathcal{L} = -\\sum_{i=1}^M y_i \\log \\sigma\\left(z_i\\right) + \\left(1 - y_i\\right) \\log \\left(1 - \\sigma\\left(z_i\\right)\\right)$\n",
    "2. $\\large -\\mathcal{L} = -\\sum_{i=1}^K y_i \\log \\sigma\\left(z_i\\right) + \\left(1 - y_i\\right) \\log \\left(1 - \\sigma\\left(z_i\\right)\\right)$ +\n",
    "3. $\\large -\\mathcal{L} = -\\sum_{i=1}^K z_i \\log \\sigma\\left(y_i\\right) + \\left(1 - z_i\\right) \\log \\left(1 - \\sigma\\left(y_i\\right)\\right)$\n",
    "4. $\\large -\\mathcal{L} = -\\sum_{i=1}^M z_i \\log \\sigma\\left(y_i\\right) + \\left(1 - z_i\\right) \\log \\left(1 - \\sigma\\left(y_i\\right)\\right)$"
   ]
  },
  {
   "cell_type": "markdown",
   "metadata": {},
   "source": [
    "## 2. Вывод формулы обновления весов\n",
    "\n",
    "<font color=\"red\">Вопрос 2.</font>В качестве второго задания вам предоставляется возможность вывести формулу градиента для $-\\mathcal{L}$. Какой вид она будет иметь?"
   ]
  },
  {
   "cell_type": "markdown",
   "metadata": {
    "collapsed": true
   },
   "source": [
    "<font color=\"red\">Варианты ответа:</font>:\n",
    "1. $\\large -\\frac{\\partial \\mathcal{L}}{\\partial w_{km}} = -x_m \\left(\\sigma\\left(z_k\\right) - y_k\\right)$\n",
    "2. $\\large -\\frac{\\partial \\mathcal{L}}{\\partial w_{km}} = -x_m \\left(y_k - \\sigma\\left(z_k\\right)\\right)$+\n",
    "3. $\\large -\\frac{\\partial \\mathcal{L}}{\\partial w_{km}} = \\left(\\sigma\\left(z_k\\right)x_m - y_k\\right)$\n",
    "4. $\\large -\\frac{\\partial \\mathcal{L}}{\\partial w_{km}} = \\left(y_k - \\sigma\\left(z_k\\right)x_m\\right)$"
   ]
  },
  {
   "cell_type": "markdown",
   "metadata": {},
   "source": [
    "## 3. Реализация базовой модели\n",
    "\n",
    "Вам предлагается каркас класса модели, разберите его внимательно, обращайте внимание на комментарии. Затем заполните пропуски, запустите полученную модель и ответьте на проверочный вопрос.\n",
    "\n",
    "Как вы могли уже заметить, при обновлении веса $w_{km}$ используется значение признака $x_m$, который равен $0$, если слова с индексом $m$ нет в предложении, и больше нуля, если такое слово есть. В нашем случае, чтобы не пересчитывать [bag-of-words](https://en.wikipedia.org/wiki/Bag-of-words_model) самим или с помощью [sklearn.feature_extraction.text.CountVectorizer](http://scikit-learn.org/stable/modules/generated/sklearn.feature_extraction.text.CountVectorizer.html#sklearn.feature_extraction.text.CountVectorizer), мы будем идти по словам предложения в порядке их следования. Если какое-то слово встречается несколько раз, то мы добавляем его в аккумулятор со своим весом. В итоге получится то же самое, как если сначала посчитать количество одинаковых слов и домножить на соответствующий вес. Соответственно, при вычислении линейной комбинации $z$ весов модели и признаков примера необходимо учитывать только ненулевые признаки объекта.\n",
    "\n",
    "Подсказка:\n",
    "- если реализовывать вычисление сигмоида так же, как в формуле, то при большом отрицательном значении $z$ вычисление $e^{-z}$ превратится в очень большое число, которое вылетит за допустимые пределы\n",
    "- в то же время $e^{-z}$ от большого положительного $z$ будет нулем\n",
    "- воспользуйтесь свойствами функции $\\sigma$ для того, чтобы пофиксить эту ошибку и реализовать $\\sigma$ без риска overflow."
   ]
  },
  {
   "cell_type": "code",
<<<<<<< HEAD
   "execution_count": 38,
=======
   "execution_count": 5,
>>>>>>> d66f03f457dea84c20d5d01137e89af691fb23e6
   "metadata": {
    "collapsed": false
   },
   "outputs": [
    {
     "data": {
      "text/plain": [
       "{'android',\n",
       " 'c#',\n",
       " 'c++',\n",
       " 'html',\n",
       " 'ios',\n",
       " 'java',\n",
       " 'javascript',\n",
       " 'jquery',\n",
       " 'php',\n",
       " 'python'}"
      ]
     },
<<<<<<< HEAD
     "execution_count": 38,
=======
     "execution_count": 5,
>>>>>>> d66f03f457dea84c20d5d01137e89af691fb23e6
     "metadata": {},
     "output_type": "execute_result"
    }
   ],
   "source": [
    "top_tags"
   ]
  },
  {
   "cell_type": "code",
<<<<<<< HEAD
   "execution_count": 7,
=======
   "execution_count": 36,
>>>>>>> d66f03f457dea84c20d5d01137e89af691fb23e6
   "metadata": {
    "collapsed": false
   },
   "outputs": [],
   "source": [
    "class LogRegressor():\n",
    "    \n",
    "    \"\"\"Конструктор\n",
    "    \n",
    "    Параметры\n",
    "    ----------\n",
    "    tags : list of string, default=top_tags\n",
    "        список тегов\n",
    "    \"\"\"\n",
    "    def __init__(self, tags=top_tags):      \n",
    "        # словарь который содержит мапинг слов предложений и тегов в индексы (для экономии памяти)\n",
    "        # пример: self._vocab['exception'] = 17 означает что у слова exception индекс равен 17\n",
    "        self._vocab = {}\n",
    "        \n",
    "        # параметры модели: веса\n",
    "        # для каждого класса/тега нам необходимо хранить собственный вектор весов\n",
    "        # по умолчанию у нас все веса будут равны нулю\n",
    "        # мы заранее не знаем сколько весов нам понадобится\n",
    "        # поэтому для каждого класса мы сосздаем словарь изменяемого размера со значением по умолчанию 0\n",
    "        # пример: self._w['java'][self._vocab['exception']]  содержит вес для слова exception тега java\n",
    "        self._w = dict([(t, defaultdict(int)) for t in tags])\n",
    "        \n",
    "        # параметры модели: смещения или вес w_0\n",
    "        self._b = dict([(t, 0) for t in tags])\n",
    "        \n",
    "        self._tags = set(tags)\n",
    "    \n",
    "    \"\"\"Один прогон по датасету\n",
    "    \n",
    "    Параметры\n",
    "    ----------\n",
    "    fname : string, default=DS_FILE_NAME\n",
    "        имя файла с данными\n",
    "        \n",
    "    top_n_train : int\n",
    "        первые top_n_train строк будут использоваться для обучения, остальные для тестирования\n",
    "        \n",
    "    total : int, default=10000000\n",
    "        информация о количестве строк в файле для вывода прогресс бара\n",
    "    \n",
    "    learning_rate : float, default=0.1\n",
    "        скорость обучения для градиентного спуска\n",
    "        \n",
    "    tolerance : float, default=1e-16\n",
    "        используем для ограничения значений аргумента логарифмов\n",
    "    \"\"\"\n",
    "    def iterate_file(self, \n",
    "                     fname=DS_FILE_NAME, \n",
    "                     top_n_train=100000, \n",
    "                     total=125000,\n",
    "                     learning_rate=0.1,\n",
    "                     tolerance=1e-16):\n",
    "        \n",
    "        self._loss = []\n",
    "        n = 0\n",
    "        \n",
    "        # откроем файл\n",
    "        with open(fname, 'r') as f:            \n",
    "            \n",
    "            # прогуляемся по строкам файла\n",
    "            for line in tqdm_notebook(f, total=total, mininterval=1):\n",
    "                pair = line.strip().split('\\t')\n",
    "                if len(pair) != 2:\n",
    "                    continue                \n",
    "                sentence, tags = pair\n",
    "                # слова вопроса, это как раз признаки x\n",
    "                sentence = sentence.split(' ')\n",
    "                # теги вопроса, это y\n",
    "                tags = set(tags.split(' '))\n",
    "                \n",
    "                # значение функции потерь для текущего примера\n",
    "                sample_loss = 0\n",
    "\n",
    "                # прокидываем градиенты для каждого тега\n",
    "                for tag in self._tags:\n",
    "                    # целевая переменная равна 1 если текущий тег есть у текущего примера\n",
    "                    y = int(tag in tags)\n",
    "                    \n",
    "                    # расчитываем значение линейной комбинации весов и признаков объекта\n",
    "                    # инициализируем z\n",
    "                    # ЗАПОЛНИТЕ ПРОПУСКИ В КОДЕ\n",
    "                    z = self._b[tag]\n",
    "   \n",
    "                    for word in sentence:\n",
    "                        # если в режиме тестирования появляется слово которого нет в словаре, то мы его игнорируем\n",
    "                        if n >= top_n_train and word not in self._vocab:\n",
    "                            continue\n",
    "                        if word not in self._vocab:\n",
    "                            self._vocab[word] = len(self._vocab)\n",
    "                        z += self._w[tag][self._vocab[word]]\n",
    "    \n",
    "                    # вычисляем вероятность наличия тега\n",
    "                    # ЗАПОЛНИТЕ ПРОПУСКИ В КОДЕ\n",
    "                    sigma = 1/(1+np.exp(-z)) if z>=0 else 1-1/(1+np.exp(z))                    \n",
    "                    # обновляем значение функции потерь для текущего примера\n",
    "                    # ЗАПОЛНИТЕ ПРОПУСКИ В КОДЕ\n",
    "                    sample_loss-=(1 - y) * np.log(max(tolerance, 1-sigma)) + y * np.log(max(tolerance, sigma))                                                    \n",
    "                    # если мы все еще в тренировочной части, то обновим параметры\n",
    "                    if n < top_n_train:\n",
    "                        # вычисляем производную логарифмического правдоподобия по весу\n",
    "                        # ЗАПОЛНИТЕ ПРОПУСКИ В КОДЕ\n",
    "                        dLdw = y-sigma\n",
    "\n",
    "                        # делаем градиентный шаг\n",
    "                        # мы минимизируем отрицательное логарифмическое правдоподобие (второй знак минус)\n",
    "                        # поэтому мы идем в обратную сторону градиента для минимизации (первый знак минус)\n",
    "                        for word in sentence:                        \n",
    "                            self._w[tag][self._vocab[word]] -= -learning_rate*dLdw\n",
    "                        self._b[tag] -= -learning_rate*dLdw\n",
    "                    \n",
    "                n += 1\n",
    "                        \n",
    "                self._loss.append(sample_loss)"
   ]
  },
  {
   "cell_type": "code",
   "execution_count": 37,
   "metadata": {
    "collapsed": false
   },
   "outputs": [
    {
     "name": "stdout",
     "output_type": "stream",
     "text": [
      "\n"
     ]
    },
    {
     "name": "stderr",
     "output_type": "stream",
     "text": [
      "Exception in thread Thread-13:\n",
      "Traceback (most recent call last):\n",
      "  File \"C:\\Users\\user\\Anaconda3\\lib\\threading.py\", line 914, in _bootstrap_inner\n",
      "    self.run()\n",
      "  File \"C:\\Users\\user\\Anaconda3\\lib\\site-packages\\tqdm\\_tqdm.py\", line 148, in run\n",
      "    for instance in self.tqdm_cls._instances:\n",
      "  File \"C:\\Users\\user\\Anaconda3\\lib\\_weakrefset.py\", line 60, in __iter__\n",
      "    for itemref in self.data:\n",
      "RuntimeError: Set changed size during iteration\n",
      "\n"
     ]
    },
    {
     "name": "stdout",
     "output_type": "stream",
     "text": [
      "\n"
     ]
    }
   ],
   "source": [
    "# создадим эксемпляр модели и пройдемся по датасету\n",
    "model = LogRegressor()\n",
    "model.iterate_file()"
   ]
  },
  {
   "cell_type": "markdown",
   "metadata": {},
   "source": [
    "Проверим, действительно ли значение отрицательного логарифмического правдоподобия уменьшалось. Так как мы используем стохастический градентный спуск, не стоит ожидать плавного падения функции ошибки. Мы воспользуемся скользящим средним с окном в 10 тысяч примеров, чтобы хоть как-то сгладить график."
   ]
  },
  {
   "cell_type": "code",
   "execution_count": 38,
   "metadata": {
    "collapsed": false
   },
   "outputs": [
    {
     "data": {
      "image/png": "iVBORw0KGgoAAAANSUhEUgAAA6sAAAK9CAYAAADCGvq3AAAABHNCSVQICAgIfAhkiAAAAAlwSFlz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\nRK5CYII=\n",
      "text/plain": [
       "<matplotlib.figure.Figure at 0x57445c7278>"
      ]
     },
     "metadata": {},
     "output_type": "display_data"
    }
   ],
   "source": [
    "plt.plot(pd.Series(model._loss[:-25000]).rolling(10000).mean());"
   ]
  },
  {
   "cell_type": "code",
   "execution_count": 39,
   "metadata": {
    "collapsed": false
   },
   "outputs": [
    {
     "name": "stdout",
     "output_type": "stream",
     "text": [
      "Mean of the loss function on the last 10k train samples: 20.07\n"
     ]
    }
   ],
   "source": [
    "print('Mean of the loss function on the last 10k train samples: %0.2f' % np.mean(model._loss[-35000:-25000]))"
   ]
  },
  {
   "cell_type": "markdown",
   "metadata": {},
   "source": [
    "<font color=\"red\">Вопрос 3.</font>\n",
    "Вычислите среднее значение функции стоимости на последних 10 000 примеров тренировочного набора, к какому из значений ваш ответ ближе всего?\n",
    "\n",
    "<font color=\"red\">Варианты ответа:</font>\n",
    "1. 17.54\n",
    "2. 18.64\n",
    "3. 19.74 +\n",
    "4. 20.84 "
   ]
  },
  {
   "cell_type": "markdown",
   "metadata": {
    "collapsed": true
   },
   "source": [
    "## 4. Тестирование модели\n",
    "\n",
    "В базовой модели первые 100 000 строк используются для обучения, а оставшиеся – для тестирования. Как вы можете заметить, значение отрицательного логарифмического правдоподобия не очень информативно, хоть и позволяет сравнивать разные модели. В качестве четвертого задания вам необходимо модифицировать базовую модель таким образом, чтобы метод `iterate_file` возвращал значение _точности_ на тестовой части набора данных. \n",
    "\n",
    "Точность определим следующим образом:\n",
    "- считаем, что тег у вопроса присутствует, если спрогнозированная вероятность тега больше 0.9\n",
    "- точность одного примера расчитывается как [коэффициент Жаккара](https://ru.wikipedia.org/wiki/Коэффициент_Жаккара) между множеством настоящих тегов и предсказанных моделью\n",
    "  - например, если у примера настоящие теги ['html', 'jquery'], а по версии модели ['ios', 'html', 'java'], то коэффициент Жаккара будет равен |['html', 'jquery'] $\\cap$ ['ios', 'html', 'java']| / |['html', 'jquery'] $\\cup$ ['ios', 'html', 'java']| = |['html']| / |['jquery', 'ios', 'html', 'java']| = 1/4\n",
    "- метод `iterate_file` возвращает **среднюю** точность на тестовом наборе данных"
   ]
  },
  {
   "cell_type": "code",
<<<<<<< HEAD
   "execution_count": 1,
   "metadata": {
    "collapsed": false
   },
   "outputs": [
    {
     "ename": "NameError",
     "evalue": "name 'top_tags' is not defined",
     "output_type": "error",
     "traceback": [
      "\u001b[1;31m---------------------------------------------------------------------------\u001b[0m",
      "\u001b[1;31mNameError\u001b[0m                                 Traceback (most recent call last)",
      "\u001b[1;32m<ipython-input-1-1b6bb1adabda>\u001b[0m in \u001b[0;36m<module>\u001b[1;34m()\u001b[0m\n\u001b[1;32m----> 1\u001b[1;33m \u001b[1;32mclass\u001b[0m \u001b[0mLogRegressor\u001b[0m\u001b[1;33m(\u001b[0m\u001b[1;33m)\u001b[0m\u001b[1;33m:\u001b[0m\u001b[1;33m\u001b[0m\u001b[0m\n\u001b[0m\u001b[0;32m      2\u001b[0m \u001b[1;33m\u001b[0m\u001b[0m\n\u001b[0;32m      3\u001b[0m     \"\"\"Конструктор\n\u001b[0;32m      4\u001b[0m \u001b[1;33m\u001b[0m\u001b[0m\n\u001b[0;32m      5\u001b[0m     \u001b[0mПараметры\u001b[0m\u001b[1;33m\u001b[0m\u001b[0m\n",
      "\u001b[1;32m<ipython-input-1-1b6bb1adabda>\u001b[0m in \u001b[0;36mLogRegressor\u001b[1;34m()\u001b[0m\n\u001b[0;32m      8\u001b[0m         \u001b[0mсписок\u001b[0m \u001b[0mтегов\u001b[0m\u001b[1;33m\u001b[0m\u001b[0m\n\u001b[0;32m      9\u001b[0m     \"\"\"\n\u001b[1;32m---> 10\u001b[1;33m     \u001b[1;32mdef\u001b[0m \u001b[0m__init__\u001b[0m\u001b[1;33m(\u001b[0m\u001b[0mself\u001b[0m\u001b[1;33m,\u001b[0m \u001b[0mtags\u001b[0m\u001b[1;33m=\u001b[0m\u001b[0mtop_tags\u001b[0m\u001b[1;33m)\u001b[0m\u001b[1;33m:\u001b[0m\u001b[1;33m\u001b[0m\u001b[0m\n\u001b[0m\u001b[0;32m     11\u001b[0m         \u001b[1;31m# словарь который содержит мапинг слов предложений и тегов в индексы (для экономии памяти)\u001b[0m\u001b[1;33m\u001b[0m\u001b[1;33m\u001b[0m\u001b[0m\n\u001b[0;32m     12\u001b[0m         \u001b[1;31m# пример: self._vocab['exception'] = 17 означает что у слова exception индекс равен 17\u001b[0m\u001b[1;33m\u001b[0m\u001b[1;33m\u001b[0m\u001b[0m\n",
      "\u001b[1;31mNameError\u001b[0m: name 'top_tags' is not defined"
     ]
    }
   ],
=======
   "execution_count": 43,
   "metadata": {
    "collapsed": true
   },
   "outputs": [],
>>>>>>> d66f03f457dea84c20d5d01137e89af691fb23e6
   "source": [
    "class LogRegressor():\n",
    "    \n",
    "    \"\"\"Конструктор\n",
    "    \n",
    "    Параметры\n",
    "    ----------\n",
    "    tags : list of string, default=top_tags\n",
    "        список тегов\n",
    "    \"\"\"\n",
    "    def __init__(self, tags=top_tags):      \n",
    "        # словарь который содержит мапинг слов предложений и тегов в индексы (для экономии памяти)\n",
    "        # пример: self._vocab['exception'] = 17 означает что у слова exception индекс равен 17\n",
    "        self._vocab = {}\n",
    "        \n",
    "        # параметры модели: веса\n",
    "        # для каждого класса/тега нам необходимо хранить собственный вектор весов\n",
    "        # по умолчанию у нас все веса будут равны нулю\n",
    "        # мы заранее не знаем сколько весов нам понадобится\n",
    "        # поэтому для каждого класса мы сосздаем словарь изменяемого размера со значением по умолчанию 0\n",
    "        # пример: self._w['java'][self._vocab['exception']]  содержит вес для слова exception тега java\n",
    "        self._w = dict([(t, defaultdict(int)) for t in tags])\n",
    "        \n",
    "        # параметры модели: смещения или вес w_0\n",
    "        self._b = dict([(t, 0) for t in tags])\n",
    "        \n",
    "        self._tags = set(tags)\n",
    "    \n",
    "    \"\"\"Один прогон по датасету\n",
    "    \n",
    "    Параметры\n",
    "    ----------\n",
    "    fname : string, default=DS_FILE_NAME\n",
    "        имя файла с данными\n",
    "        \n",
    "    top_n_train : int\n",
    "        первые top_n_train строк будут использоваться для обучения, остальные для тестирования\n",
    "        \n",
    "    total : int, default=10000000\n",
    "        информация о количестве строк в файле для вывода прогресс бара\n",
    "    \n",
    "    learning_rate : float, default=0.1\n",
    "        скорость обучения для градиентного спуска\n",
    "        \n",
    "    tolerance : float, default=1e-16\n",
    "        используем для ограничения значений аргумента логарифмов\n",
    "    \"\"\"\n",
    "    def iterate_file(self, \n",
    "                     fname=DS_FILE_NAME, \n",
    "                     top_n_train=100000, \n",
    "                     total=125000,\n",
    "                     learning_rate=0.1,\n",
    "                     tolerance=1e-16):\n",
    "        accur = []\n",
    "        self._loss = []\n",
    "        n = 0\n",
    "        \n",
    "        # откроем файл\n",
    "        with open(fname, 'r') as f:            \n",
    "            \n",
    "            # прогуляемся по строкам файла\n",
    "            for line in tqdm_notebook(f, total=total, mininterval=1):\n",
    "                test_tags = []\n",
    "                pair = line.strip().split('\\t')\n",
    "                if len(pair) != 2:\n",
    "                    continue                \n",
    "                sentence, tags = pair\n",
    "                # слова вопроса, это как раз признаки x\n",
    "                sentence = sentence.split(' ')\n",
    "                # теги вопроса, это y\n",
    "                tags = set(tags.split(' '))\n",
    "                \n",
    "                # значение функции потерь для текущего примера\n",
    "                sample_loss = 0\n",
    "\n",
    "                # прокидываем градиенты для каждого тега\n",
    "                for tag in self._tags:\n",
    "                    # целевая переменная равна 1 если текущий тег есть у текущего примера\n",
    "                    y = int(tag in tags)\n",
    "                    \n",
    "                    # расчитываем значение линейной комбинации весов и признаков объекта\n",
    "                    # инициализируем z\n",
    "                    # ЗАПОЛНИТЕ ПРОПУСКИ В КОДЕ\n",
    "                    z = self._b[tag]\n",
    "   \n",
    "                    for word in sentence:\n",
    "                        # если в режиме тестирования появляется слово которого нет в словаре, то мы его игнорируем\n",
    "                        if n >= top_n_train and word not in self._vocab:\n",
    "                            continue\n",
    "                        if word not in self._vocab:\n",
    "                            self._vocab[word] = len(self._vocab)\n",
    "                        z += self._w[tag][self._vocab[word]]\n",
    "    \n",
    "                    # вычисляем вероятность наличия тега\n",
    "                    # ЗАПОЛНИТЕ ПРОПУСКИ В КОДЕ\n",
    "                    sigma = 1/(1+np.exp(-z)) if z>=0 else 1-1/(1+np.exp(z)) \n",
    "                    if sigma > 0.9 :\n",
    "                        test_tags.append(tag)\n",
    "                    # обновляем значение функции потерь для текущего примера\n",
    "                    # ЗАПОЛНИТЕ ПРОПУСКИ В КОДЕ\n",
    "                    #если текущий тег есть у текущего параметра, то считаем максимум\n",
    "                    sample_loss-=(1 - y) * np.log(max(tolerance, 1-sigma)) + y * np.log(max(tolerance, sigma))                                                    \n",
    "                    # если мы все еще в тренировочной части, то обновим параметры\n",
    "                    if n < top_n_train:\n",
    "                        # вычисляем производную логарифмического правдоподобия по весу\n",
    "                        # ЗАПОЛНИТЕ ПРОПУСКИ В КОДЕ\n",
    "                        dLdw = y-sigma\n",
    "\n",
    "                        # делаем градиентный шаг\n",
    "                        # мы минимизируем отрицательное логарифмическое правдоподобие (второй знак минус)\n",
    "                        # поэтому мы идем в обратную сторону градиента для минимизации (первый знак минус)\n",
    "                        for word in sentence:                        \n",
    "                            self._w[tag][self._vocab[word]] -= -learning_rate*dLdw\n",
    "                        self._b[tag] -= -learning_rate*dLdw\n",
    "                if(n > top_n_train):\n",
    "                    temp = len(tags.intersection(test_tags))/len(tags.union(test_tags))\n",
    "                    accur.append(temp)\n",
    "                    \n",
    "                n += 1\n",
    "                        \n",
    "                self._loss.append(sample_loss)\n",
    "            return np.mean(accur)"
   ]
  },
  {
   "cell_type": "code",
   "execution_count": 44,
   "metadata": {
    "collapsed": false
   },
   "outputs": [
    {
     "name": "stdout",
     "output_type": "stream",
     "text": [
      "\n",
      "0.59\n"
     ]
    }
   ],
   "source": [
    "model = LogRegressor()\n",
    "acc = model.iterate_file()\n",
    "# выведем полученное значение с точностью до двух знаков\n",
    "print('%0.2f' % acc)"
   ]
  },
  {
   "cell_type": "markdown",
   "metadata": {
    "collapsed": true
   },
   "source": [
    "<font color=\"red\">Вопрос 4.</font> К какому значению ближе всего полученное значение точности?\n",
    "<font color=\"red\">Варианты ответа:</font>\n",
    "1. 0.39\n",
    "2. 0.49\n",
    "3. 0.59 +\n",
    "4. 0.69"
   ]
  },
  {
   "cell_type": "markdown",
   "metadata": {
    "collapsed": true
   },
   "source": [
    "## 5. $L_2$-регуляризация\n",
    "\n",
    "В качестве пятого задания вам необходимо добавить в класс `LogRegressor` поддержку $L_2$-регуляризации. В методе `iterate_file` должен появиться параметр `lmbda=0.01` со значением по умолчанию. С учетом регуляризации новая функция стоимости примет вид:\n",
    "\n",
    "$$\\large \\begin{array}{rcl}\n",
    "L &=& -\\mathcal{L} + \\frac{\\lambda}{2} R\\left(W\\right) \\\\\n",
    "&=& -\\mathcal{L} + \\frac{\\lambda}{2} \\sum_{k=1}^K\\sum_{i=1}^M w_{ki}^2\n",
    "\\end{array}$$\n",
    "\n",
    "Градиент первого члена суммы мы уже вывели, а для второго он имеет вид:\n",
    "\n",
    "$$\\large \\begin{array}{rcl}\n",
    "\\frac{\\partial}{\\partial w_{ki}} \\frac{\\lambda}{2} R\\left(W\\right) &=& \\lambda w_{ki}\n",
    "\\end{array}$$\n",
    "\n",
    "Если мы на каждом примере будем делать честное обновление всех весов, то все очень замедлится, ведь нам придется на каждой итерации пробегать по всем словам словаря. В ущерб теоретической корректности мы используем грязный трюк: будем регуляризировать только те слова, которые присутствуют в текущем предложении. Не забывайте, что смещение (bias) не регуляризируется. `sample_loss` тоже должен остаться без изменений.\n",
    "\n",
    "Замечание:\n",
    "- не забудьте, что нужно учитывать регуляризацию слова в градиентном шаге только один раз\n",
    "- условимся, что учитываем регуляризацию только при первой встрече слова\n",
    "- если бы мы считали сначала bag-of-words, то мы бы в цикле шли по уникальным словам, но т.к. мы этого не делаем, приходится выкручиваться (еще одна жертва богу online-моделей)"
   ]
  },
  {
   "cell_type": "code",
<<<<<<< HEAD
   "execution_count": 17,
=======
   "execution_count": null,
>>>>>>> d66f03f457dea84c20d5d01137e89af691fb23e6
   "metadata": {
    "collapsed": true
   },
   "outputs": [],
   "source": [
<<<<<<< HEAD
    "class LogRegressor():\n",
    "    \n",
    "    \"\"\"Конструктор\n",
    "    \n",
    "    Параметры\n",
    "    ----------\n",
    "    tags : list of string, default=top_tags\n",
    "        список тегов\n",
    "    \"\"\"\n",
    "    def __init__(self, tags=top_tags):      \n",
    "        # словарь который содержит мапинг слов предложений и тегов в индексы (для экономии памяти)\n",
    "        # пример: self._vocab['exception'] = 17 означает что у слова exception индекс равен 17\n",
    "        self._vocab = {}\n",
    "        \n",
    "        # параметры модели: веса\n",
    "        # для каждого класса/тега нам необходимо хранить собственный вектор весов\n",
    "        # по умолчанию у нас все веса будут равны нулю\n",
    "        # мы заранее не знаем сколько весов нам понадобится\n",
    "        # поэтому для каждого класса мы сосздаем словарь изменяемого размера со значением по умолчанию 0\n",
    "        # пример: self._w['java'][self._vocab['exception']]  содержит вес для слова exception тега java\n",
    "        self._w = dict([(t, defaultdict(int)) for t in tags])\n",
    "        \n",
    "        # параметры модели: смещения или вес w_0\n",
    "        self._b = dict([(t, 0) for t in tags])\n",
    "        \n",
    "        self._tags = set(tags)\n",
    "    \n",
    "    \"\"\"Один прогон по датасету\n",
    "    \n",
    "    Параметры\n",
    "    ----------\n",
    "    fname : string, default=DS_FILE_NAME\n",
    "        имя файла с данными\n",
    "        \n",
    "    top_n_train : int\n",
    "        первые top_n_train строк будут использоваться для обучения, остальные для тестирования\n",
    "        \n",
    "    total : int, default=10000000\n",
    "        информация о количестве строк в файле для вывода прогресс бара\n",
    "    \n",
    "    learning_rate : float, default=0.1\n",
    "        скорость обучения для градиентного спуска\n",
    "        \n",
    "    tolerance : float, default=1e-16\n",
    "        используем для ограничения значений аргумента логарифмов\n",
    "    \"\"\"\n",
    "    def iterate_file(self, \n",
    "                     fname=DS_FILE_NAME, \n",
    "                     top_n_train=100000, \n",
    "                     total=125000,\n",
    "                     learning_rate=0.1,\n",
    "                     tolerance=1e-16,\n",
    "                    lmbda=0.01):\n",
    "        accur = []\n",
    "        self._loss = []\n",
    "        n = 0\n",
    "        \n",
    "        # откроем файл\n",
    "        with open(fname, 'r') as f:            \n",
    "            \n",
    "            # прогуляемся по строкам файла\n",
    "            for line in tqdm_notebook(f, total=total, mininterval=1):\n",
    "                test_tags = []\n",
    "                pair = line.strip().split('\\t')\n",
    "                if len(pair) != 2:\n",
    "                    continue                \n",
    "                sentence, tags = pair\n",
    "                # слова вопроса, это как раз признаки x\n",
    "                sentence = sentence.split(' ')\n",
    "                # теги вопроса, это y\n",
    "                tags = set(tags.split(' '))\n",
    "                \n",
    "                # значение функции потерь для текущего примера\n",
    "                sample_loss = 0\n",
    "\n",
    "                # прокидываем градиенты для каждого тега\n",
    "                for tag in self._tags:\n",
    "                    # целевая переменная равна 1 если текущий тег есть у текущего примера\n",
    "                    y = int(tag in tags)\n",
    "                    \n",
    "                    # расчитываем значение линейной комбинации весов и признаков объекта\n",
    "                    # инициализируем z\n",
    "                    # ЗАПОЛНИТЕ ПРОПУСКИ В КОДЕ\n",
    "                    z = self._b[tag]\n",
    "   \n",
    "                    for word in sentence:\n",
    "                        # если в режиме тестирования появляется слово которого нет в словаре, то мы его игнорируем\n",
    "                        if n >= top_n_train and word not in self._vocab:\n",
    "                            continue\n",
    "                        if word not in self._vocab:\n",
    "                            self._vocab[word] = len(self._vocab)\n",
    "                        z += self._w[tag][self._vocab[word]]\n",
    "    \n",
    "                    # вычисляем вероятность наличия тега\n",
    "                    # ЗАПОЛНИТЕ ПРОПУСКИ В КОДЕ\n",
    "                    sigma = 1/(1+np.exp(-z)) if z>=0 else 1-1/(1+np.exp(z)) \n",
    "                    if sigma > 0.9 :\n",
    "                        test_tags.append(tag)\n",
    "                    # обновляем значение функции потерь для текущего примера\n",
    "                    # ЗАПОЛНИТЕ ПРОПУСКИ В КОДЕ\n",
    "                    #если текущий тег есть у текущего параметра, то считаем максимум\n",
    "                    sample_loss-=(1 - y) * np.log(max(tolerance, 1-sigma)) + y * np.log(max(tolerance, sigma))                                                    \n",
    "                    # если мы все еще в тренировочной части, то обновим параметры\n",
    "                    if n < top_n_train:\n",
    "                        # вычисляем производную логарифмического правдоподобия по весу\n",
    "                        # ЗАПОЛНИТЕ ПРОПУСКИ В КОДЕ\n",
    "                        dLdw = y-sigma\n",
    "\n",
    "                        # делаем градиентный шаг\n",
    "                        # мы минимизируем отрицательное логарифмическое правдоподобие (второй знак минус)\n",
    "                        # поэтому мы идем в обратную сторону градиента для минимизации (первый знак минус)\n",
    "                        words = []\n",
    "                        for word in sentence:       \n",
    "                            if word not in words:\n",
    "                                words.append(word)\n",
    "                                t = lmbda*self._w[tag][self._vocab[word]]\n",
    "                            else:\n",
    "                                t = 0\n",
    "                            self._w[tag][self._vocab[word]] -= learning_rate*(t-dLdw)\n",
    "                        self._b[tag] -= -learning_rate*dLdw\n",
    "                if(n > top_n_train):\n",
    "                    temp = len(tags.intersection(test_tags))/len(tags.union(test_tags))\n",
    "                    accur.append(temp)\n",
    "                    \n",
    "                n += 1\n",
    "                        \n",
    "                self._loss.append(sample_loss)\n",
    "            return np.mean(accur)"
=======
    "# Обновите определение класса LogRegressor\n",
    "# Ваш код здесь"
>>>>>>> d66f03f457dea84c20d5d01137e89af691fb23e6
   ]
  },
  {
   "cell_type": "code",
<<<<<<< HEAD
   "execution_count": 18,
   "metadata": {
    "collapsed": false
   },
   "outputs": [
    {
     "name": "stdout",
     "output_type": "stream",
     "text": [
      "\n"
     ]
    },
    {
     "name": "stderr",
     "output_type": "stream",
     "text": [
      "Exception in thread Thread-9:\n",
      "Traceback (most recent call last):\n",
      "  File \"C:\\Users\\user\\Anaconda3\\lib\\threading.py\", line 914, in _bootstrap_inner\n",
      "    self.run()\n",
      "  File \"C:\\Users\\user\\Anaconda3\\lib\\site-packages\\tqdm\\_tqdm.py\", line 148, in run\n",
      "    for instance in self.tqdm_cls._instances:\n",
      "  File \"C:\\Users\\user\\Anaconda3\\lib\\_weakrefset.py\", line 60, in __iter__\n",
      "    for itemref in self.data:\n",
      "RuntimeError: Set changed size during iteration\n",
      "\n"
     ]
    },
    {
     "name": "stdout",
     "output_type": "stream",
     "text": [
      "\n",
      "0.54\n"
     ]
    },
    {
     "data": {
      "image/png": "iVBORw0KGgoAAAANSUhEUgAAA6sAAAK9CAYAAADCGvq3AAAABHNCSVQICAgIfAhkiAAAAAlwSFlz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\nRU5ErkJggg==\n",
      "text/plain": [
       "<matplotlib.figure.Figure at 0xdb2240080>"
      ]
     },
     "metadata": {},
     "output_type": "display_data"
    }
   ],
=======
   "execution_count": null,
   "metadata": {
    "collapsed": true
   },
   "outputs": [],
>>>>>>> d66f03f457dea84c20d5d01137e89af691fb23e6
   "source": [
    "model = LogRegressor()\n",
    "acc = model.iterate_file()\n",
    "print('%0.2f' % acc)\n",
    "plt.plot(pd.Series(model._loss[:-25000]).rolling(10000).mean());"
   ]
  },
  {
   "cell_type": "markdown",
   "metadata": {},
   "source": [
    "<font color=\"red\">Вопрос 5.</font> К какому значению ближе всего полученное значение точности?\n",
    "<font color=\"red\">Варианты ответа:</font>\n",
    "1. 0.3\n",
    "2. 0.35\n",
<<<<<<< HEAD
    "3. 0.4 \n",
    "4. 0.52 +"
=======
    "3. 0.4\n",
    "4. 0.52"
>>>>>>> d66f03f457dea84c20d5d01137e89af691fb23e6
   ]
  },
  {
   "cell_type": "markdown",
   "metadata": {},
   "source": [
    "## 6. ElasticNet регуляризация, вывод\n",
    "Помимо $L_2$ регуляризации, часто используется $L_1$ регуляризация.\n",
    "\n",
    "$$\\large \\begin{array}{rcl}\n",
    "L &=& -\\mathcal{L} + \\frac{\\lambda}{2} R\\left(W\\right) \\\\\n",
    "&=& -\\mathcal{L} + \\lambda \\sum_{k=1}^K\\sum_{i=1}^M \\left|w_{ki}\\right|\n",
    "\\end{array}$$\n",
    "\n",
    "Если линейно объединить $L_1$ и $L_2$ регуляризацию, то полученный тип регуляризации называется ElasticNet:\n",
    "\n",
    "$$\\large \\begin{array}{rcl}\n",
    "L &=& -\\mathcal{L} + \\lambda R\\left(W\\right) \\\\\n",
    "&=& -\\mathcal{L} + \\lambda \\left(\\gamma \\sum_{k=1}^K\\sum_{i=1}^M w_{ki}^2 + \\left(1 - \\gamma\\right) \\sum_{k=1}^K\\sum_{i=1}^M \\left|w_{ki}\\right| \\right)\n",
    "\\end{array}$$\n",
    "- где $\\gamma \\in \\left[0, 1\\right]$\n",
    "\n",
    "В качестве шестого вопроса вам предлагается вывести формулу градиента ElasticNet регуляризации (не учитывая $-\\mathcal{L}$). \n",
    "\n",
    "<font color=\"red\">Варианты ответа:</font>:\n",
    "1. $\\large \\frac{\\partial}{\\partial w_{ki}} \\lambda R\\left(W\\right) = \\lambda \\left(2 \\gamma w_{ki} + \\left(1 - \\gamma\\right) w_{ki}\\right)$ \n",
    "2. $\\large \\frac{\\partial}{\\partial w_{ki}} \\lambda R\\left(W\\right) = \\lambda \\left(2 \\gamma \\left|w_{ki}\\right| + \\left(1 - \\gamma\\right) \\text{sign}\\left(w_{ki}\\right)\\right)$\n",
<<<<<<< HEAD
    "3. $\\large \\frac{\\partial}{\\partial w_{ki}} \\lambda R\\left(W\\right) = \\lambda \\left(2 \\gamma w_{ki} + \\left(1 - \\gamma\\right) \\text{sign}\\left(w_{ki}\\right)\\right)$  + \n",
=======
    "3. $\\large \\frac{\\partial}{\\partial w_{ki}} \\lambda R\\left(W\\right) = \\lambda \\left(2 \\gamma w_{ki} + \\left(1 - \\gamma\\right) \\text{sign}\\left(w_{ki}\\right)\\right)$\n",
>>>>>>> d66f03f457dea84c20d5d01137e89af691fb23e6
    "4. $\\large \\frac{\\partial}{\\partial w_{ki}} \\lambda R\\left(W\\right) = \\lambda \\left(\\gamma w_{ki} + \\left(1 - \\gamma\\right) \\text{sign}\\left(w_{ki}\\right)\\right)$"
   ]
  },
  {
   "cell_type": "markdown",
   "metadata": {},
   "source": [
    "## 7. Регуляризация ElasticNet , реализация\n",
    "\n",
    "В качестве седьмой задачи вам предлается изменить класс `LogRegressor` таким образом, чтобы метод `iterate_file` принимал два параметра со значениями по умолчанию `lmbda=0.0002` и `gamma=0.1`. Сделайте один проход по датасету с включенной `ElasticNet`-регуляризацией и заданными значениями по умолчанию и ответьте на вопрос."
   ]
  },
  {
   "cell_type": "code",
<<<<<<< HEAD
   "execution_count": 19,
=======
   "execution_count": null,
>>>>>>> d66f03f457dea84c20d5d01137e89af691fb23e6
   "metadata": {
    "collapsed": true
   },
   "outputs": [],
   "source": [
<<<<<<< HEAD
    "class LogRegressor():\n",
    "    \n",
    "    \"\"\"Конструктор\n",
    "    \n",
    "    Параметры\n",
    "    ----------\n",
    "    tags : list of string, default=top_tags\n",
    "        список тегов\n",
    "    \"\"\"\n",
    "    def __init__(self, tags=top_tags):      \n",
    "        # словарь который содержит мапинг слов предложений и тегов в индексы (для экономии памяти)\n",
    "        # пример: self._vocab['exception'] = 17 означает что у слова exception индекс равен 17\n",
    "        self._vocab = {}\n",
    "        \n",
    "        # параметры модели: веса\n",
    "        # для каждого класса/тега нам необходимо хранить собственный вектор весов\n",
    "        # по умолчанию у нас все веса будут равны нулю\n",
    "        # мы заранее не знаем сколько весов нам понадобится\n",
    "        # поэтому для каждого класса мы сосздаем словарь изменяемого размера со значением по умолчанию 0\n",
    "        # пример: self._w['java'][self._vocab['exception']]  содержит вес для слова exception тега java\n",
    "        self._w = dict([(t, defaultdict(int)) for t in tags])\n",
    "        \n",
    "        # параметры модели: смещения или вес w_0\n",
    "        self._b = dict([(t, 0) for t in tags])\n",
    "        \n",
    "        self._tags = set(tags)\n",
    "    \n",
    "    \"\"\"Один прогон по датасету\n",
    "    \n",
    "    Параметры\n",
    "    ----------\n",
    "    fname : string, default=DS_FILE_NAME\n",
    "        имя файла с данными\n",
    "        \n",
    "    top_n_train : int\n",
    "        первые top_n_train строк будут использоваться для обучения, остальные для тестирования\n",
    "        \n",
    "    total : int, default=10000000\n",
    "        информация о количестве строк в файле для вывода прогресс бара\n",
    "    \n",
    "    learning_rate : float, default=0.1\n",
    "        скорость обучения для градиентного спуска\n",
    "        \n",
    "    tolerance : float, default=1e-16\n",
    "        используем для ограничения значений аргумента логарифмов\n",
    "    \"\"\"\n",
    "    def iterate_file(self, \n",
    "                     fname=DS_FILE_NAME, \n",
    "                     top_n_train=100000, \n",
    "                     total=125000,\n",
    "                     learning_rate=0.1,\n",
    "                     tolerance=1e-16,\n",
    "                    lmbda=0.01,\n",
    "                    gamma=0.1):\n",
    "        accur = []\n",
    "        self._loss = []\n",
    "        n = 0\n",
    "        \n",
    "        # откроем файл\n",
    "        with open(fname, 'r') as f:            \n",
    "            \n",
    "            # прогуляемся по строкам файла\n",
    "            for line in tqdm_notebook(f, total=total, mininterval=1):\n",
    "                test_tags = []\n",
    "                pair = line.strip().split('\\t')\n",
    "                if len(pair) != 2:\n",
    "                    continue                \n",
    "                sentence, tags = pair\n",
    "                # слова вопроса, это как раз признаки x\n",
    "                sentence = sentence.split(' ')\n",
    "                # теги вопроса, это y\n",
    "                tags = set(tags.split(' '))\n",
    "                \n",
    "                # значение функции потерь для текущего примера\n",
    "                sample_loss = 0\n",
    "\n",
    "                # прокидываем градиенты для каждого тега\n",
    "                for tag in self._tags:\n",
    "                    # целевая переменная равна 1 если текущий тег есть у текущего примера\n",
    "                    y = int(tag in tags)\n",
    "                    \n",
    "                    # расчитываем значение линейной комбинации весов и признаков объекта\n",
    "                    # инициализируем z\n",
    "                    # ЗАПОЛНИТЕ ПРОПУСКИ В КОДЕ\n",
    "                    z = self._b[tag]\n",
    "   \n",
    "                    for word in sentence:\n",
    "                        # если в режиме тестирования появляется слово которого нет в словаре, то мы его игнорируем\n",
    "                        if n >= top_n_train and word not in self._vocab:\n",
    "                            continue\n",
    "                        if word not in self._vocab:\n",
    "                            self._vocab[word] = len(self._vocab)\n",
    "                        z += self._w[tag][self._vocab[word]]\n",
    "    \n",
    "                    # вычисляем вероятность наличия тега\n",
    "                    # ЗАПОЛНИТЕ ПРОПУСКИ В КОДЕ\n",
    "                    sigma = 1/(1+np.exp(-z)) if z>=0 else 1-1/(1+np.exp(z)) \n",
    "                    if sigma > 0.9 :\n",
    "                        test_tags.append(tag)\n",
    "                    # обновляем значение функции потерь для текущего примера\n",
    "                    # ЗАПОЛНИТЕ ПРОПУСКИ В КОДЕ\n",
    "                    #если текущий тег есть у текущего параметра, то считаем максимум\n",
    "                    sample_loss-=(1 - y) * np.log(max(tolerance, 1-sigma)) + y * np.log(max(tolerance, sigma))                                                    \n",
    "                    # если мы все еще в тренировочной части, то обновим параметры\n",
    "                    if n < top_n_train:\n",
    "                        # вычисляем производную логарифмического правдоподобия по весу\n",
    "                        # ЗАПОЛНИТЕ ПРОПУСКИ В КОДЕ\n",
    "                        dLdw = y-sigma\n",
    "\n",
    "                        # делаем градиентный шаг\n",
    "                        # мы минимизируем отрицательное логарифмическое правдоподобие (второй знак минус)\n",
    "                        # поэтому мы идем в обратную сторону градиента для минимизации (первый знак минус)\n",
    "                        words = []\n",
    "                        for word in sentence:       \n",
    "                            if word not in words:\n",
    "                                words.append(word)\n",
    "                                w = self._w[tag][self._vocab[word]]\n",
    "                                t = lmbda*(2*gamma*w+ (1-gamma)*np.sign(w))\n",
    "                            else:\n",
    "                                t = 0\n",
    "                            self._w[tag][self._vocab[word]] -= learning_rate*(t-dLdw)\n",
    "                        self._b[tag] -= -learning_rate*dLdw\n",
    "                if(n > top_n_train):\n",
    "                    temp = len(tags.intersection(test_tags))/len(tags.union(test_tags))\n",
    "                    accur.append(temp)\n",
    "                    \n",
    "                n += 1\n",
    "                        \n",
    "                self._loss.append(sample_loss)\n",
    "            return np.mean(accur)"
=======
    "# Обновите определение класса LogRegressor\n",
    "# Ваш код здесь"
>>>>>>> d66f03f457dea84c20d5d01137e89af691fb23e6
   ]
  },
  {
   "cell_type": "code",
<<<<<<< HEAD
   "execution_count": 20,
   "metadata": {
    "collapsed": false
   },
   "outputs": [
    {
     "name": "stdout",
     "output_type": "stream",
     "text": [
      "\n",
      "0.53\n"
     ]
    },
    {
     "data": {
      "image/png": "iVBORw0KGgoAAAANSUhEUgAAA6sAAAK9CAYAAADCGvq3AAAABHNCSVQICAgIfAhkiAAAAAlwSFlz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\n",
      "text/plain": [
       "<matplotlib.figure.Figure at 0xd9b427a20>"
      ]
     },
     "metadata": {},
     "output_type": "display_data"
    }
   ],
=======
   "execution_count": null,
   "metadata": {
    "collapsed": true
   },
   "outputs": [],
>>>>>>> d66f03f457dea84c20d5d01137e89af691fb23e6
   "source": [
    "model = LogRegressor()\n",
    "acc = model.iterate_file()\n",
    "print('%0.2f' % acc)\n",
    "plt.plot(pd.Series(model._loss[:-25000]).rolling(10000).mean());"
   ]
  },
  {
   "cell_type": "markdown",
   "metadata": {
    "collapsed": true
   },
   "source": [
    "<font color=\"red\">Вопрос 7.</font> К какому значению ближе всего полученное значение точности:\n",
    "<font color=\"red\">Варианты ответа:</font>\n",
<<<<<<< HEAD
    "1. 0.59 +\n",
=======
    "1. 0.59\n",
>>>>>>> d66f03f457dea84c20d5d01137e89af691fb23e6
    "2. 0.69\n",
    "3. 0.79\n",
    "4. 0.82"
   ]
  },
  {
   "cell_type": "markdown",
   "metadata": {},
   "source": [
    "## 8. Самые важные слова для тега\n",
    "\n",
    "Прелесть линейных моделей в том, что они легко интерпретируемы. Вам предлагается вычислить, какие слова вносят наибольший вклад в вероятность появления каждого из тегов. А затем ответьте на контрольный вопрос."
   ]
  },
  {
   "cell_type": "code",
   "execution_count": null,
   "metadata": {
    "collapsed": true
   },
   "outputs": [],
   "source": [
    "# Ваш код здесь"
   ]
  },
  {
   "cell_type": "code",
<<<<<<< HEAD
   "execution_count": 21,
   "metadata": {
    "collapsed": false
   },
   "outputs": [
    {
     "name": "stdout",
     "output_type": "stream",
     "text": [
      "ios : dylib, uiview, nsstring, ios, nil\n",
      "python : py, python, 00, def, django\n",
      "c++ : avrf, std, c++, cout, cpp\n",
      "android : android, arm, art, imgsrv, 29297\n",
      "javascript : x20, javascript, x30, x44, x42\n",
      "c# : writeline, xsl, binding, linq, ienumerable\n",
      "html : 3, amp, br, span, lt\n",
      "java : servlet, hibernate, artifactid, spring, println\n",
      "php : php, x5c, 125, _post, gt\n",
      "jquery : jquery, span, li, ready, td\n"
     ]
    }
   ],
=======
   "execution_count": null,
   "metadata": {
    "collapsed": true
   },
   "outputs": [],
>>>>>>> d66f03f457dea84c20d5d01137e89af691fb23e6
   "source": [
    "model._vocab_inv = dict([(v, k) for (k, v) in model._vocab.items()])\n",
    "\n",
    "for tag in model._tags:\n",
    "    print(tag, ':', ', '.join([model._vocab_inv[k] for (k, v) in \n",
    "                               sorted(model._w[tag].items(), \n",
    "                                      key=lambda t: t[1], \n",
    "                                      reverse=True)[:5]]))    "
   ]
  },
  {
   "cell_type": "markdown",
   "metadata": {},
   "source": [
    "<font color=\"red\">Вопрос 8.</font> Для многих тегов наличие самого тега в предложении является важным сигналом, у многих сам тег является самым сильным сигналом, что не удивительно. Для каких из тегов само название тега не входит в топ-5 самых важных?\n",
    "\n",
    "<font color=\"red\">Варианты ответа:</font>\n",
<<<<<<< HEAD
    "1. c# +\n",
=======
    "1. c# \n",
>>>>>>> d66f03f457dea84c20d5d01137e89af691fb23e6
    "2. javascript\n",
    "3. jquery\n",
    "4. android"
   ]
  },
  {
   "cell_type": "markdown",
   "metadata": {
    "collapsed": true
   },
   "source": [
    "## 9. Сокращаем размер словаря\n",
    "Сейчас количество слов в словаре – 519290, если бы это была выборка из 10 миллионов вопросов с сайта StackOverflow, то размер словаря был бы миллионов 10. Регуляризировать модель можно не только изящно математически, но и топорно, например, ограничить размер словаря. Вам предоставляется возможность внести следующие изменения в класс `LogRegressor`:\n",
    "- добавить в метод `iterate_file` еще один аргумент со значением по умолчанию `update_vocab=True`\n",
    "- при `update_vocab=True` разрешать добавлять слова в словарь в режиме обучения\n",
    "- при `update_vocab=False` игнорировать слова не из словаря\n",
    "- добавить в класс метод `filter_vocab(n=10000)`, который оставит в словаре только топ-n самых популярных слов, используя данные из ``train``"
   ]
  },
  {
   "cell_type": "code",
<<<<<<< HEAD
   "execution_count": 48,
   "metadata": {
    "collapsed": false
   },
   "outputs": [],
   "source": [
    "class LogRegressor():\n",
    "    \n",
    "    \"\"\"Конструктор\n",
    "    \n",
    "    Параметры\n",
    "    ----------\n",
    "    tags : list of string, default=top_tags\n",
    "        список тегов\n",
    "    \"\"\"\n",
    "    def __init__(self, tags=top_tags):      \n",
    "        # словарь который содержит мапинг слов предложений и тегов в индексы (для экономии памяти)\n",
    "        # пример: self._vocab['exception'] = 17 означает что у слова exception индекс равен 17\n",
    "        self._vocab = {}\n",
    "        \n",
    "        # параметры модели: веса\n",
    "        # для каждого класса/тега нам необходимо хранить собственный вектор весов\n",
    "        # по умолчанию у нас все веса будут равны нулю\n",
    "        # мы заранее не знаем сколько весов нам понадобится\n",
    "        # поэтому для каждого класса мы сосздаем словарь изменяемого размера со значением по умолчанию 0\n",
    "        # пример: self._w['java'][self._vocab['exception']]  содержит вес для слова exception тега java\n",
    "        self._w = dict([(t, defaultdict(int)) for t in tags])\n",
    "        \n",
    "        # параметры модели: смещения или вес w_0\n",
    "        self._b = dict([(t, 0) for t in tags])\n",
    "        \n",
    "        self._tags = set(tags)\n",
    "    \n",
    "    \"\"\"Один прогон по датасету\n",
    "    \n",
    "    Параметры\n",
    "    ----------\n",
    "    fname : string, default=DS_FILE_NAME\n",
    "        имя файла с данными\n",
    "        \n",
    "    top_n_train : int\n",
    "        первые top_n_train строк будут использоваться для обучения, остальные для тестирования\n",
    "        \n",
    "    total : int, default=10000000\n",
    "        информация о количестве строк в файле для вывода прогресс бара\n",
    "    \n",
    "    learning_rate : float, default=0.1\n",
    "        скорость обучения для градиентного спуска\n",
    "        \n",
    "    tolerance : float, default=1e-16\n",
    "        используем для ограничения значений аргумента логарифмов\n",
    "    \"\"\"\n",
    "    def iterate_file(self, \n",
    "                     fname=DS_FILE_NAME, \n",
    "                     top_n_train=50, \n",
    "                     total=59,\n",
    "                     learning_rate=0.1,\n",
    "                     tolerance=1e-16,\n",
    "                    lmbda=0.01,\n",
    "                    gamma=0.1,\n",
    "                    update_vocab = True):\n",
    "        accur = []\n",
    "        self._loss = []\n",
    "        n = 0\n",
    "        \n",
    "        # откроем файл\n",
    "        with open(fname, 'r') as f:            \n",
    "            \n",
    "            # прогуляемся по строкам файла\n",
    "            for line in tqdm_notebook(f, total=total, mininterval=1):\n",
    "                test_tags = []\n",
    "                pair = line.strip().split('\\t')\n",
    "                if len(pair) != 2:\n",
    "                    continue                \n",
    "                sentence, tags = pair\n",
    "                # слова вопроса, это как раз признаки x\n",
    "                sentence = sentence.split(' ')\n",
    "                # теги вопроса, это y\n",
    "                tags = set(tags.split(' '))\n",
    "                \n",
    "                # значение функции потерь для текущего примера\n",
    "                sample_loss = 0\n",
    "\n",
    "                # прокидываем градиенты для каждого тега\n",
    "                for tag in self._tags:\n",
    "                    # целевая переменная равна 1 если текущий тег есть у текущего примера\n",
    "                    y = int(tag in tags)\n",
    "                    \n",
    "                    # расчитываем значение линейной комбинации весов и признаков объекта\n",
    "                    # инициализируем z\n",
    "                    # ЗАПОЛНИТЕ ПРОПУСКИ В КОДЕ\n",
    "                    z = self._b[tag]\n",
    "   \n",
    "                    for word in sentence:\n",
    "                        # если в режиме тестирования появляется слово которого нет в словаре, то мы его игнорируем\n",
    "                        if n >= top_n_train and word not in self._vocab or update_vocab==False:\n",
    "                            continue\n",
    "                        if word not in self._vocab:\n",
    "                            self._vocab[word] = len(self._vocab)\n",
    "                        z += self._w[tag][self._vocab[word]]\n",
    "    \n",
    "                    # вычисляем вероятность наличия тега\n",
    "                    # ЗАПОЛНИТЕ ПРОПУСКИ В КОДЕ\n",
    "                    sigma = 1/(1+np.exp(-z)) if z>=0 else 1-1/(1+np.exp(z)) \n",
    "                    if sigma > 0.9 :\n",
    "                        test_tags.append(tag)\n",
    "                    # обновляем значение функции потерь для текущего примера\n",
    "                    # ЗАПОЛНИТЕ ПРОПУСКИ В КОДЕ\n",
    "                    sample_loss-=(1 - y) * np.log(max(tolerance, 1-sigma)) + y * np.log(max(tolerance, sigma))                                                    \n",
    "                    # если мы все еще в тренировочной части, то обновим параметры\n",
    "                    if n < top_n_train:\n",
    "                        # вычисляем производную логарифмического правдоподобия по весу\n",
    "                        # ЗАПОЛНИТЕ ПРОПУСКИ В КОДЕ\n",
    "                        dLdw = y-sigma\n",
    "\n",
    "                        # делаем градиентный шаг\n",
    "                        # мы минимизируем отрицательное логарифмическое правдоподобие (второй знак минус)\n",
    "                        # поэтому мы идем в обратную сторону градиента для минимизации (первый знак минус)\n",
    "                        words = []\n",
    "                        for word in sentence:       \n",
    "                            if word not in words:\n",
    "                                words.append(word)\n",
    "                                w = self._w[tag][self._vocab[word]]\n",
    "                                t = lmbda*(2*gamma*w+ (1-gamma)*np.sign(w))\n",
    "                            else:\n",
    "                                t = 0\n",
    "                            self._w[tag][self._vocab[word]] -= learning_rate*(t-dLdw)\n",
    "                        self._b[tag] -= -learning_rate*dLdw\n",
    "                if(n > top_n_train):\n",
    "                    temp = len(tags.intersection(test_tags))/len(tags.union(test_tags))\n",
    "                    accur.append(temp)\n",
    "                    \n",
    "                n += 1\n",
    "                        \n",
    "                self._loss.append(sample_loss)\n",
    "            return np.mean(accur)\n",
    "        \n",
    "    def filter_vocab(self, n=10000):\n",
    "        sorted_d = OrderedDict(sorted(self._vocab.items(), key=lambda t:t[1]))\n",
    "        import itertools\n",
    "        \n",
    "        return dict(itertools.islice(sorted_d.items(), n))\n",
    "        \n",
    "            \n",
    "            "
=======
   "execution_count": null,
   "metadata": {
    "collapsed": true
   },
   "outputs": [],
   "source": [
    "# Обновите определение класса LogRegressor\n",
    "# Ваш код здесь"
>>>>>>> d66f03f457dea84c20d5d01137e89af691fb23e6
   ]
  },
  {
   "cell_type": "code",
<<<<<<< HEAD
   "execution_count": 49,
   "metadata": {
    "collapsed": false,
    "scrolled": true
   },
   "outputs": [
    {
     "name": "stdout",
     "output_type": "stream",
     "text": [
      "0.00\n"
     ]
    },
    {
     "data": {
      "image/png": "iVBORw0KGgoAAAANSUhEUgAAA7IAAAK9CAYAAAAZoVCVAAAABHNCSVQICAgIfAhkiAAAAAlwSFlz\nAAALEgAACxIB0t1+/AAAIABJREFUeJzt3X+s1uV9//EX5AgWbqgUJc0ag5Z4uv0xocD+sYVhrVvb\nNHGGw3LQ6dKaTHCztv6ironSZuxgI8myKZsNsbgzJ4i1WdPFxhgGaY2beDJqcPEkQsfM2jWAbpxz\nDzmw8/n+sXi+PdOC3qDw9jweiX/c9/W57vu6kivn8PS+73NPapqmCQAAABQx+UwvAAAAAN4JIQsA\nAEApQhYAAIBShCwAAAClCFkAAABKEbIAAACU0tXJpKZpsnbt2gwODmbKlClZt25dLrzwwrHx7du3\nZ+PGjenq6sry5cuzYsWKJMm3vvWtbN++PceOHcs111yT5cuXn55dAAAAMGF0FLJPP/10RkZGsmXL\nlvz4xz9OX19fNm7cmCQ5fvx41q9fnyeeeCJTp07NypUrc8UVV+Tll1/OP//zP2fLli357//+7zz0\n0EOndSMAAABMDB2F7MDAQJYsWZIkmT9/fvbs2TM2tnfv3sydOzetVitJsnjx4jz33HP5l3/5l3R3\nd+emm25Ku93OnXfeeRqWDwAAwETTUcgODw9nxowZ//9BuroyOjqayZMnv2ls2rRpGR4ezmuvvZaf\n/vSnefDBB/PKK69k9erV+cEPfnDqOwAAAGBC6ShkW61W2u322O03IvaNseHh4bGxdrudmTNn5rzz\nzsu8efPS1dWViy++OFOnTs2rr76aD33oQ296/AMHhjpZFgAAAAVccMGMk190Ah391eKFCxdm586d\nSZLdu3enu7t7bGzevHnZv39/Dh8+nJGRkTz//PNZsGBBFi1alB/+8IdJkp///Od5/fXXM2vWrFNa\nPAAAABNPR6/IXnnllXnmmWfS29ubJOnr68v3v//9HDlyJCtWrMhdd92VL37xi2maJj09PZkzZ07m\nzJmT559/Pj09PWmaJvfcc08mTZp0WjcDAADA+9+kpmmaM72I/8tbiwEAAN6/zshbiwEAAOBMEbIA\nAACUImQBAAAoRcgCAABQipAFAACgFCELAABAKUIWAACAUoQsAAAApQhZAAAAShGyAAAAlCJkAQAA\nKEXIAgAAUIqQBQAAoBQhCwAAQClCFgAAgFKELAAAAKUIWQAAAEoRsgAAAJQiZAEAAChFyAIAAFCK\nkAUAAKAUIQsAAEApQhYAAIBShCwAAAClCFkAAABKEbIAAACUImQBAAAoRcgCAABQipAFAACgFCEL\nAABAKUIWAACAUoQsAAAApQhZAAAAShGyAAAAlCJkAQAAKEXIAgAAUIqQBQAAoBQhCwAAQClCFgAA\ngFKELAAAAKUIWQAAAEoRsgAAAJQiZAEAAChFyAIAAFCKkAUAAKAUIQsAAEApQhYAAIBShCwAAACl\nCFkAAABKEbIAAACUImQBAAAoRcgCAABQipAFAACgFCELAABAKUIWAACAUoQsAAAApQhZAAAAShGy\nAAAAlCJkAQAAKEXIAgAAUIqQBQAAoBQhCwAAQClCFgAAgFKELAAAAKUIWQAAAEoRsgAAAJQiZAEA\nAChFyAIAAFCKkAUAAKAUIQsAAEApQhYAAIBShCwAAAClCFkAAABKEbIAAACUImQBAAAoRcgCAABQ\nipAFAACgFCELAABAKUIWAACAUoQsAAAApQhZAAAAShGyAAAAlCJkAQAAKEXIAgAAUIqQBQAAoBQh\nCwAAQClCFgAAgFKELAAAAKUIWQAAAEoRsgAAAJQiZAEAAChFyAIAAFCKkAUAAKAUIQsAAEApQhYA\nAIBShCwAAAClCFkAAABKEbIAAACUImQBAAAoRcgCAABQipAFAACgFCELAABAKUIWAACAUoQsAAAA\npXQUsk3T5J577klvb2+uv/76vPLKK+PGt2/fnp6envT29mbbtm3jxg4dOpRly5blJz/5SeerBgAA\nYMLqKGSffvrpjIyMZMuWLbntttvS19c3Nnb8+PGsX78+mzdvTn9/f7Zu3ZpXX311bOyee+7Jueee\ne3pWDwAAwITTUcgODAxkyZIlSZL58+dnz549Y2N79+7N3Llz02q1cs4552TRokXZtWtXkuTee+/N\nypUrM2fOnNOwdAAAACaijkJ2eHg4M2bMGLvd1dWV0dHRtxybPn16hoaG8t3vfjezZ8/OJz7xiTRN\nc4rLBgAAYKLqKGRbrVba7fbY7dHR0UyePHlsbHh4eGys3W5n5syZeeKJJ/LMM8/kuuuuy0svvZQ1\na9bk0KFDp7h8AAAAJpquTiYtXLgw//AP/5DPfOYz2b17d7q7u8fG5s2bl/379+fw4cM599xzs2vX\nrtxwww35rd/6rbFrrrvuunzjG9/I7NmzT30HAAAATCgdheyVV16ZZ555Jr29vUmSvr6+fP/738+R\nI0eyYsWK3HXXXfniF7+YpmmyYsWKN30mdtKkSae+cgAAACakSc1Z+IHVAweGzvQSAAAAeJdccMGM\nk190Ah19RhYAAADOFCELAABAKUIWAACAUoQsAAAApQhZAAAAShGyAAAAlCJkAQAAKEXIAgAAUIqQ\nBQAAoBQhCwAAQClCFgAAgFKELAAAAKUIWQAAAEoRsgAAAJQiZAEAAChFyAIAAFCKkAUAAKAUIQsA\nAEApQhYAAIBShCwAAAClCFkAAABKEbIAAACUImQBAAAoRcgCAABQipAFAACgFCELAABAKUIWAACA\nUoQsAAAApQhZAAAAShGyAAAAlCJkAQAAKEXIAgAAUIqQBQAAoBQhCwAAQClCFgAAgFKELAAAAKUI\nWQAAAEoRsgAAAJQiZAEAAChFyAIAAFCKkAUAAKAUIQsAAEApQhYAAIBShCwAAAClCFkAAABKEbIA\nAACUImQBAAAoRcgCAABQipAFAACgFCELAABAKUIWAACAUoQsAAAApQhZAAAAShGyAAAAlCJkAQAA\nKEXIAgAAUIqQBQAAoBQhCwAAQClCFgAAgFKELAAAAKUIWQAAAEoRsgAAAJQiZAEAAChFyAIAAFCK\nkAUAAKAUIQsAAEApQhYAAIBShCwAAAClCFkAAABKEbIAAACUImQBAAAoRcgCAABQipAFAACgFCEL\nAABAKUIWAACAUoQsAAAApQhZAAAAShGyAAAAlCJkAQAAKEXIAgAAUIqQBQAAoBQhCwAAQClCFgAA\ngFKELAAAAKUIWQAAAEoRsgAAAJQiZAEAAChFyAIAAFCKkAUAAKAUIQsAAEApQhYAAIBShCwAAACl\nCFkAAABKEbIAAACUImQBAAAoRcgCAABQipAFAACgFCELAABAKUIWAACAUoQsAAAApQhZAAAAShGy\nAAAAlCJkAQAAKKWrk0lN02Tt2rUZHBzMlClTsm7dulx44YVj49u3b8/GjRvT1dWV5cuXZ8WKFTl+\n/Hj++I//OP/+7/+eY8eOZdWqVfnUpz512jYCAADAxNBRyD799NMZGRnJli1b8uMf/zh9fX3ZuHFj\nkuT48eNZv359nnjiiUydOjUrV67MFVdckR07dmTWrFn55je/mf/6r//K7/zO7whZAAAA3rGOQnZg\nYCBLlixJksyfPz979uwZG9u7d2/mzp2bVquVJFm0aFF27dqVz372s/nMZz6TJBkdHU1XV0dPDQAA\nwATXUU0ODw9nxowZ//9BuroyOjqayZMnv2ls+vTpGRoaygc+8IGxubfccku+8pWvnOLSAQAAmIg6\n+mNPrVYr7XZ77PYbEfvG2PDw8NhYu93OzJkzkyQ/+9nP8vu///u5+uqr87nPfe5U1g0AAMAE1VHI\nLly4MDt37kyS7N69O93d3WNj8+bNy/79+3P48OGMjIxk165dWbBgQQ4ePJgbbrghd9xxR66++urT\ns3oAAAAmnElN0zTvdNIv/tXiJOnr68uLL76YI0eOZMWKFdmxY0fuv//+NE2Tnp6erFy5MuvWrcuT\nTz6Zj370o2maJpMmTcqmTZsyZcqUNz3+gQNDp74zAAAAzkoXXDDj5BedQEch+24TsgAAAO9fpxqy\nHb21GAAAAM4UIQsAAEApQhYAAIBShCwAAAClCFkAAABKEbIAAACUImQBAAAoRcgCAABQipAFAACg\nFCELAABAKUIWAACAUoQsAAAApQhZAAAAShGyAAAAlCJkAQAAKEXIAgAAUIqQBQAAoBQhCwAAQClC\nFgAAgFKELAAAAKUIWQAAAEoRsgAAAJQiZAEAAChFyAIAAFCKkAUAAKAUIQsAAEApQhYAAIBShCwA\nAAClCFkAAABKEbIAAACUImQBAAAoRcgCAABQipAFAACgFCELAABAKUIWAACAUoQsAAAApQhZAAAA\nShGyAAAAlCJkAQAAKEXIAgAAUIqQBQAAoBQhCwAAQClCFgAAgFKELAAAAKUIWQAAAEoRsgAAAJQi\nZAEAAChFyAIAAFCKkAUAAKAUIQsAAEApQhYAAIBShCwAAAClCFkAAABKEbIAAACUImQBAAAoRcgC\nAABQipAFAACgFCELAABAKUIWAACAUoQsAAAApQhZAAAAShGyAAAAlCJkAQAAKEXIAgAAUIqQBQAA\noBQhCwAAQClCFgAAgFKELAAAAKUIWQAAAEoRsgAAAJQiZAEAAChFyAIAAFCKkAUAAKAUIQsAAEAp\nQhYAAIBShCwAAAClCFkAAABKEbIAAACUImQBAAAoRcgCAABQipAFAACgFCELAABAKUIWAACAUoQs\nAAAApQhZAAAAShGyAAAAlCJkAQAAKEXIAgAAUIqQBQAAoBQhCwAAQClCFgAAgFKELAAAAKUIWQAA\nAEoRsgAAAJQiZAEAAChFyAIAAFCKkAUAAKAUIQsAAEApQhYAAIBShCwAAAClCFkAAABKEbIAAACU\nImQBAAAoRcgCAABQSlcnk5qmydq1azM4OJgpU6Zk3bp1ufDCC8fGt2/fno0bN6arqyvLly/PihUr\nTjoHAAAA3o6OXpF9+umnMzIyki1btuS2225LX1/f2Njx48ezfv36bN68Of39/dm6dWteffXVE84B\nAACAt6ujV2QHBgayZMmSJMn8+fOzZ8+esbG9e/dm7ty5abVaSZLFixfnueeey+7du3/pHAAAAHi7\nOnpFdnh4ODNmzBi73dXVldHR0bccmzZtWoaGhtJut3/pHAAAAHi7OgrZVquVdrs9dnt0dDSTJ08e\nGxseHh4ba7fb+eAHP3jCOQAAAPB2dVSSCxcuzM6dO5Mku3fvTnd399jYvHnzsn///hw+fDgjIyN5\n/vnns2DBgnz84x//pXMAAADg7ZrUNE3zTif94l8gTpK+vr68+OKLOXLkSFasWJEdO3bk/vvvT9M0\n6enpycqVK99yzsUXX/yWj3/gwNApbAkAAICz2QUXzDj5RSfQUci+24QsAADA+9ephqwPqQIAAFCK\nkAUAAKAUIQsAAEApQhYAAIBShCwAAAClCFkAAABKEbIAAACUImQBAAAoRcgCAABQipAFAACgFCEL\nAABAKUIWAACAUoQsAAAApQhZAAAAShGyAAAAlCJkAQAAKEXIAgAAUIqQBQAAoBQhCwAAQClCFgAA\ngFKELAAAAKUIWQAAAEoRsgAAAJQiZAEAAChFyAIAAFCKkAUAAKAUIQsAAEApQhYAAIBShCwAAACl\nCFkAAABKEbIAAACUImQBAAAoRcgCAABQipAFAACgFCELAABAKUIWAACAUoQsAAAApQhZAAAAShGy\nAAAAlCJkAQAAKEXIAgAAUIqQBQAAoBQhCwAAQClCFgAAgFKELAAAAKUIWQAAAEoRsgAAAJQiZAEA\nAChFyAIAAFCKkAUAAKAUIQsAAEApQhYAAIBShCwAAAClCFkAAABKEbIAAACUImQBAAAoRcgCAABQ\nipAFAACgFCELAABAKUIWAACAUoQsAAAApQhZAAAAShGyAAAAlCJkAQAAKEXIAgAAUIqQBQAAoBQh\nCwAAQClCFgAAgFKELAAAAKUIWQAAAEoRsgAAAJQiZAEAAChFyAIAAFCKkAUAAKAUIQsAAEApQhYA\nAIBShCwAAAClCFkAAABKEbIAAACUImQBAAAoRcgCAABQipAFAACgFCELAABAKUIWAACAUoQsAAAA\npQhZAAAAShGyAAAAlCJkAQAAKEXIAgAAUIqQBQAAoBQhCwAAQClCFgAAgFKELAAAAKUIWQAAAEoR\nsgAAAJQiZAEAAChFyAIAAFCKkAUAAKAUIQsAAEApQhYAAIBShCwAAAClCFkAAABKEbIAAACUImQB\nAAAopauTSUePHs0dd9yRQ4cOpdVqZf369Zk1a9a4ax577LFs3bo155xzTlatWpVly5ZleHg4t99+\ne9rtdo4dO5avfvWrWbBgwWnZCAAAABNDR6/IPvroo+nu7s4jjzySq666Khs3bhw3fvDgwfT392fr\n1q3ZtGlTNmzYkGPHjuXb3/52LrvssvT396evry/f+MY3TssmAAAAmDg6CtmBgYEsXbo0SbJ06dI8\n++yz48ZfeOGFLFq0KF1dXWm1WrnooosyODiYL3zhC+nt7U2SHD9+PFOnTj3F5QMAADDRnPStxY8/\n/ngefvjhcfedf/75abVaSZLp06dneHh43Pjw8HBmzJgxdnvatGkZGhoam3PgwIHceeed+drXvnbK\nGwAAAGBiOWnI9vT0pKenZ9x9N998c9rtdpKk3W6Pi9YkabVa4+K23W5n5syZSZLBwcHcfvvtWbNm\nTRYvXnzKGwAAAGBi6eitxQsXLszOnTuTJDt37nxTkF566aUZGBjIyMhIhoaGsm/fvlxyySV5+eWX\n8+Uvfzn33XdfPvnJT5766gEAAJhwJjVN07zTSa+//nrWrFmTAwcOZMqUKdmwYUNmz56dzZs3Z+7c\nubn88suzbdu2bN26NU3TZPXq1fn0pz+dm266KYODg/nIRz6Spmkyc+bMPPDAA296/AMHhk7L5gAA\nADj7XHDBjJNfdAIdhey7TcgCAAC8f51qyHb01mIAAAA4U4QsAAAApQhZAAAAShGyAAAAlCJkAQAA\nKEXIAgAAUIqQBQAAoBQhCwAAQClCFgAAgFKELAAAAKUIWQAAAEoRsgAAAJQiZAEAAChFyAIAAFCK\nkAUAAKAUIQsAAEApQhYAAIBShCwAAAClCFkAAABKEbIAAACUImQBAAAoRcgCAABQipAFAACgFCEL\nAABAKUIWAACAUoQsAAAApQhZAAAAShGyAAAAlCJkAQAAKEXIAgAAUIqQBQAAoBQhCwAAQClCFgAA\ngFKELAAAAKUIWQAAAEoRsgAAAJQiZAEAAChFyAIAAFCKkAUAAKAUIQsAAEApQhYAAIBShCwAAACl\nCFkAAABKEbIAAACUImQBAAAoRcgCAABQipAFAACgFCELAABAKUIWAACAUoQsAAAApQhZAAAAShGy\nAAAAlCJkAQAAKEXIAgAAUIqQBQAAoBQhCwAAQClCFgAAgFKELAAAAKUIWQAAAEoRsgAAAJQiZAEA\nAChFyAIAAFCKkAUAAKAUIQsAAEApQhYAAIBShCwAAAClCFkAAABKEbIAAACUImQBAAAoRcgCAABQ\nipAFAACgFCELAABAKUIWAACAUoQsAAAApQhZAAAAShGyAAAAlCJkAQAAKEXIAgAAUIqQBQAAoBQh\nCwAAQClCFgAAgFKELAAAAKUIWQAAAEoRsgAAAJQiZAEAAChFyAIAAFCKkAUAAKAUIQsAAEApQhYA\nAIBShCwAAAClCFkAAABKEbIAAACUImQBAAAoRcgCAABQipAFAACgFCELAABAKUIWAACAUoQsAAAA\npQhZAAAAShGyAAAAlCJkAQAAKEXIAgAAUIqQBQAAoJSOQvbo0aP50pe+lGuvvTY33nhjXnvttTdd\n89hjj2X58uXp7e3Njh07xo3t3bs3ixcvzsjISEeLBgAAYOLqKGQfffTRdHd355FHHslVV12VjRs3\njhs/ePBg+vv7s3Xr1mzatCkbNmzIsWPHkiTDw8P55je/malTp5766gEAAJhwOgrZgYGBLF26NEmy\ndOnSPPvss+PGX3jhhSxatChdXV1ptVq56KKLMjg4mCS5++67c+utt+bcc889xaUDAAAwEXWd7ILH\nH388Dz/88Lj7zj///LRarSTJ9OnTMzw8PG58eHg4M2bMGLs9bdq0DA0N5f7778+yZcvysY99LE3T\nnI71AwAAMMGcNGR7enrS09Mz7r6bb7457XY7SdJut8dFa5K0Wq1xcdtutzNz5sx873vfy4c//OFs\n27YtBw8ezA033JD+/v7TsQ8AAAAmiJOG7FtZuHBhdu7cmV//9V/Pzp07s3jx4nHjl156af7sz/4s\nIyMjOXr0aPbt25dLLrkkTz311Ng1n/rUp/LQQw+d2uoBAACYcDoK2ZUrV2bNmjW55pprMmXKlGzY\nsCFJsnnz5sydOzeXX355rrvuulxzzTVpmia33nprpkyZMu4xJk2a5O3FAAAAvGOTmrOwJg8cGDrT\nSwAAAOBdcsEFM05+0Ql09FeLAQAA4EwRsgAAAJQiZAEAAChFyAIAAFCKkAUAAKAUIQsAAEApQhYA\nAIBShCwAAAClCFkAAABKEbIAAACUImQBAAAoRcgCAABQipAFAACgFCELAABAKUIWAACAUoQsAAAA\npQhZAAAAShGyAAAAlCJkAQAAKEXIAgAAUIqQBQAAoBQhCwAAQClCFgAAgFKELAAAAKUIWQAAAEoR\nsgAAAJQiZAEAAChFyAIAAFCKkAUAAKAUIQsAAEApQhYAAIBShCwAAAClCFkAAABKEbIAAACUImQB\nAAAoRcgCAABQipAFAACgFCELAABAKUIWAACAUoQsAAAApQhZAAAAShGyAAAAlCJkAQAAKEXIAgAA\nUIqQBQAAoBQhCwAAQClCFgAAgFKELAAAAKUIWQAAAEoRsgAAAJQiZAEAAChFyAIAAFCKkAUAAKAU\nIQsAAEApQhYAAIBShCwAAAClCFkAAABKEbIAAACUImQBAAAoRcgCAABQipAFAACgFCELAABAKUIW\nAACAUoQsAAAApQhZAAAAShGyAAAAlCJkAQAAKEXIAgAAUIqQBQAAoBQhCwAAQClCFgAAgFKELAAA\nAKUIWQAAAEoRsgAAAJQiZAEAAChFyAIAAFCKkAUAAKAUIQsAAEApQhYAAIBShCwAAAClCFkAAABK\nEbIAAACUImQBAAAoRcgCAABQipAFAACgFCELAABAKUIWAACAUoQsAAAApQhZAAAAShGyAAAAlCJk\nAQAAKEXIAgAAUIqQBQAAoBQhCwAAQClCFgAAgFKELAAAAKUIWQAAAEoRsgAAAJQiZAEAAChFyAIA\nAFCKkAUAAKAUIQsAAEApQhYAAIBShCwAAACldHUy6ejRo7njjjty6NChtFqtrF+/PrNmzRp3zWOP\nPZatW7fmnHPOyapVq7Js2bKMjo6mr68vL774YkZGRnLzzTfnN3/zN0/LRgAAAJgYOnpF9tFHH013\nd3ceeeSRXHXVVdm4ceO48YMHD6a/vz9bt27Npk2bsmHDhhw7dix/93d/l//5n//J3/7t3+aBBx7I\n/v37T8smAAAAmDg6CtmBgYEsXbo0SbJ06dI8++yz48ZfeOGFLFq0KF1dXWm1Wrnooovy0ksv5Uc/\n+lHmzJmTG2+8MXfffXcuv/zyU98BAAAAE8pJ31r8+OOP5+GHHx533/nnn59Wq5UkmT59eoaHh8eN\nDw8PZ8aMGWO3p02bluHh4bz22mv5t3/7tzz44IPZtWtX7rrrrvzN3/zN6dgHAAAAE8RJQ7anpyc9\nPT3j7rv55pvTbreTJO12e1y0Jkmr1RoXt+12OzNnzsx555039irsb/zGb+Rf//Vf3/I5L7hgxlve\nDwAAAB29tXjhwoXZuXNnkmTnzp1ZvHjxuPFLL700AwMDGRkZydDQUPbt25dLLrkkixYtGpv30ksv\n5Vd+5VdOcfkAAABMNJOapmne6aTXX389a9asyYEDBzJlypRs2LAhs2fPzubNmzN37txcfvnl2bZt\nW7Zu3ZqmabJ69ep8+tOfzsjISNauXZu9e/cmSdauXZtf+7VfO+2bAgAA4P2ro5AFAACAM6Wjtxaf\nqqNHj+ZLX/pSrr322tx444157bXX3nTNY489luXLl6e3tzc7duxIkoyOjmbdunW55ppr0tPTM/Y2\nZej0TL1h7969Wbx4cUZGRt6jFXO26/RMDQ8PZ9WqVbnuuuvS29ub3bt3v8cr52zTNE3uueee9Pb2\n5vrrr88rr7wybnz79u3p6elJb29vtm3b9rbmMHF1cp6OHz+eO++8M9dee21+93d/N9u3bz8TS+cs\n1cmZesOhQ4eybNmy/OQnP3kvl8xZrtMz9a1vfSu9vb1Zvnx5vvOd77ytJ3rPffvb327+4i/+omma\npvn7v//75k/+5E/GjR84cKD5/Oc/3xw7dqwZGhpqPv/5zzcjIyPNE0880Xz9619vmqZp/uM//qN5\n+OGH3/O1c3bq9Ew1TdMMDQ01f/AHf9BcdtllzdGjR9/ztXN26vRM/fmf//nYz6Z9+/Y1V1999Xu+\nds4uTz31VPPVr361aZqm2b17d7N69eqxsWPHjjVXXnllMzQ01IyMjDTLly9vDh06dMI5TGydnKfv\nfOc7zZ/+6Z82TdM0//mf/9ksW7bsjKyds1MnZ+qNsT/8wz9sfvu3f7vZt2/fGVk7Z6dOztQ//dM/\nNatWrWqapmna7fbYv8FO5Iy8Iut7aDndOjlTg4ODSZK77747t956a84999z3fN2cvTo9U1/4whfS\n29ub5H9fBZk6dep7vnbOLgMDA1myZEmSZP78+dmzZ8/Y2N69ezN37ty0Wq2cc845Wbx4cZ577rkT\nzmFieyfnadGiRdm1a1c++9nP5pZbbknyv+9u6+o66ZdWMIF0cqaS5N57783KlSszZ86cM7Juzl6d\n/N770Y9+lO7u7tx0001ZvXr12+q8d/0nme+h5XQ7XWdqaGgo999/f5YtW5aPfexjaXxcfMI6nWfq\njTkHDhzInXfema997Wvv8uo52/3fs9LV1ZXR0dFMnjz5l56j//vVdr84h4ntnZyn6dOnZ2hoKB/4\nwAfG5t48CwJ/AAACoklEQVRyyy35yle+8p6vm7NXJ2fqu9/9bmbPnp1PfOIT+au/+qszsWzOYu/0\n994bnffTn/40Dz74YF555ZWsXr06P/jBD074PO96yJ6J76Hl/e10nqnvfe97+fCHP5xt27bl4MGD\nueGGG9Lf3//ub4Kzyuk8U0kyODiY22+/PWvWrHnT15Mx8bRarbGzlGRckL7VOfrgBz94wjlMbO/0\nPL3xc+lnP/tZ/uiP/ii/93u/l8997nPv7aI5q3Vypt74t9IzzzyTl156KWvWrMlf/uVfZvbs2e/t\n4jkrdXKmzjvvvMybNy9dXV25+OKLM3Xq1Lz66qv50Ic+9Euf54z8VvQ9tJxunZ6pp556Kn/913+d\n/v7+nH/++XnooYfOxPI5C3V6pl5++eV8+ctfzn333ZdPfvKTZ2LpnGV+8Szt3r073d3dY2Pz5s3L\n/v37c/jw4YyMjOT555/PggUL8vGPf/yXzmFieyfnadeuXVmwYMHY/6i94447cvXVV5+ppXOW6uRM\n9ff3j/33q7/6q7n33ntFLGM6+b23aNGi/PCHP0yS/PznP8/rr7+eWbNmnfB5zsjX7/geWk63Ts/U\nL7riiivy5JNPZsqUKWdoF5xNOj1TN910UwYHB/ORj3wkTdNk5syZeeCBB870djiDmqbJ2rVrxz6X\n39fXlxdffDFHjhzJihUrsmPHjtx///1pmiY9PT1ZuXLlW865+OKLz+Q2OEt0cp7WrVuXJ598Mh/9\n6EfTNE0mTZqUTZs2+X1Hks7O1C+6/vrr8/Wvf93PKMZ0eqbuu+++/OM//mOapsltt92Wyy677ITP\n43tkAQAAKMUHbgAAAChFyAIAAFCKkAUAAKAUIQsAAEApQhYAAIBShCwAAAClCFkAAABKEbIAAACU\n8v8ACCba20RZjCcAAAAASUVORK5CYII=\n",
      "text/plain": [
       "<matplotlib.figure.Figure at 0x99f4d7eb00>"
      ]
     },
     "metadata": {},
     "output_type": "display_data"
    }
   ],
=======
   "execution_count": null,
   "metadata": {
    "collapsed": true
   },
   "outputs": [],
>>>>>>> d66f03f457dea84c20d5d01137e89af691fb23e6
   "source": [
    "model = LogRegressor()\n",
    "acc = model.iterate_file(update_vocab=True)\n",
    "print('%0.2f' % acc)\n",
    "plt.plot(pd.Series(model._loss[:-25000]).rolling(10000).mean());"
   ]
  },
  {
   "cell_type": "code",
<<<<<<< HEAD
   "execution_count": 50,
   "metadata": {
    "collapsed": false
=======
   "execution_count": null,
   "metadata": {
    "collapsed": true
>>>>>>> d66f03f457dea84c20d5d01137e89af691fb23e6
   },
   "outputs": [],
   "source": [
    "# оставим только топ 10 000 слов\n",
<<<<<<< HEAD
    "model._vocab = model.filter_vocab(n=10)"
=======
    "model.filter_vocab(n=10000)"
>>>>>>> d66f03f457dea84c20d5d01137e89af691fb23e6
   ]
  },
  {
   "cell_type": "code",
<<<<<<< HEAD
   "execution_count": 51,
   "metadata": {
    "collapsed": false
   },
   "outputs": [
    {
     "ename": "KeyError",
     "evalue": "'if'",
     "output_type": "error",
     "traceback": [
      "\u001b[1;31m---------------------------------------------------------------------------\u001b[0m",
      "\u001b[1;31mKeyError\u001b[0m                                  Traceback (most recent call last)",
      "\u001b[1;32m<ipython-input-51-cbb98cdea96d>\u001b[0m in \u001b[0;36m<module>\u001b[1;34m()\u001b[0m\n\u001b[0;32m      1\u001b[0m \u001b[1;31m# сделаем еще одну итерацию по датасету, уменьшив скорость обучения в 10 раз\u001b[0m\u001b[1;33m\u001b[0m\u001b[1;33m\u001b[0m\u001b[0m\n\u001b[1;32m----> 2\u001b[1;33m \u001b[0macc\u001b[0m \u001b[1;33m=\u001b[0m \u001b[0mmodel\u001b[0m\u001b[1;33m.\u001b[0m\u001b[0miterate_file\u001b[0m\u001b[1;33m(\u001b[0m\u001b[0mupdate_vocab\u001b[0m\u001b[1;33m=\u001b[0m\u001b[1;32mFalse\u001b[0m\u001b[1;33m,\u001b[0m \u001b[0mlearning_rate\u001b[0m\u001b[1;33m=\u001b[0m\u001b[1;36m0.01\u001b[0m\u001b[1;33m)\u001b[0m\u001b[1;33m\u001b[0m\u001b[0m\n\u001b[0m\u001b[0;32m      3\u001b[0m \u001b[0mprint\u001b[0m\u001b[1;33m(\u001b[0m\u001b[1;34m'%0.2f'\u001b[0m \u001b[1;33m%\u001b[0m \u001b[0macc\u001b[0m\u001b[1;33m)\u001b[0m\u001b[1;33m\u001b[0m\u001b[0m\n\u001b[0;32m      4\u001b[0m \u001b[0mplt\u001b[0m\u001b[1;33m.\u001b[0m\u001b[0mplot\u001b[0m\u001b[1;33m(\u001b[0m\u001b[0mpd\u001b[0m\u001b[1;33m.\u001b[0m\u001b[0mSeries\u001b[0m\u001b[1;33m(\u001b[0m\u001b[0mmodel\u001b[0m\u001b[1;33m.\u001b[0m\u001b[0m_loss\u001b[0m\u001b[1;33m[\u001b[0m\u001b[1;33m:\u001b[0m\u001b[1;33m-\u001b[0m\u001b[1;36m25000\u001b[0m\u001b[1;33m]\u001b[0m\u001b[1;33m)\u001b[0m\u001b[1;33m.\u001b[0m\u001b[0mrolling\u001b[0m\u001b[1;33m(\u001b[0m\u001b[1;36m10000\u001b[0m\u001b[1;33m)\u001b[0m\u001b[1;33m.\u001b[0m\u001b[0mmean\u001b[0m\u001b[1;33m(\u001b[0m\u001b[1;33m)\u001b[0m\u001b[1;33m)\u001b[0m\u001b[1;33m;\u001b[0m\u001b[1;33m\u001b[0m\u001b[0m\n",
      "\u001b[1;32m<ipython-input-48-e224aa238d85>\u001b[0m in \u001b[0;36miterate_file\u001b[1;34m(self, fname, top_n_train, total, learning_rate, tolerance, lmbda, gamma, update_vocab)\u001b[0m\n\u001b[0;32m    115\u001b[0m                             \u001b[1;32mif\u001b[0m \u001b[0mword\u001b[0m \u001b[1;32mnot\u001b[0m \u001b[1;32min\u001b[0m \u001b[0mwords\u001b[0m\u001b[1;33m:\u001b[0m\u001b[1;33m\u001b[0m\u001b[0m\n\u001b[0;32m    116\u001b[0m                                 \u001b[0mwords\u001b[0m\u001b[1;33m.\u001b[0m\u001b[0mappend\u001b[0m\u001b[1;33m(\u001b[0m\u001b[0mword\u001b[0m\u001b[1;33m)\u001b[0m\u001b[1;33m\u001b[0m\u001b[0m\n\u001b[1;32m--> 117\u001b[1;33m                                 \u001b[0mw\u001b[0m \u001b[1;33m=\u001b[0m \u001b[0mself\u001b[0m\u001b[1;33m.\u001b[0m\u001b[0m_w\u001b[0m\u001b[1;33m[\u001b[0m\u001b[0mtag\u001b[0m\u001b[1;33m]\u001b[0m\u001b[1;33m[\u001b[0m\u001b[0mself\u001b[0m\u001b[1;33m.\u001b[0m\u001b[0m_vocab\u001b[0m\u001b[1;33m[\u001b[0m\u001b[0mword\u001b[0m\u001b[1;33m]\u001b[0m\u001b[1;33m]\u001b[0m\u001b[1;33m\u001b[0m\u001b[0m\n\u001b[0m\u001b[0;32m    118\u001b[0m                                 \u001b[0mt\u001b[0m \u001b[1;33m=\u001b[0m \u001b[0mlmbda\u001b[0m\u001b[1;33m*\u001b[0m\u001b[1;33m(\u001b[0m\u001b[1;36m2\u001b[0m\u001b[1;33m*\u001b[0m\u001b[0mgamma\u001b[0m\u001b[1;33m*\u001b[0m\u001b[0mw\u001b[0m\u001b[1;33m+\u001b[0m \u001b[1;33m(\u001b[0m\u001b[1;36m1\u001b[0m\u001b[1;33m-\u001b[0m\u001b[0mgamma\u001b[0m\u001b[1;33m)\u001b[0m\u001b[1;33m*\u001b[0m\u001b[0mnp\u001b[0m\u001b[1;33m.\u001b[0m\u001b[0msign\u001b[0m\u001b[1;33m(\u001b[0m\u001b[0mw\u001b[0m\u001b[1;33m)\u001b[0m\u001b[1;33m)\u001b[0m\u001b[1;33m\u001b[0m\u001b[0m\n\u001b[0;32m    119\u001b[0m                             \u001b[1;32melse\u001b[0m\u001b[1;33m:\u001b[0m\u001b[1;33m\u001b[0m\u001b[0m\n",
      "\u001b[1;31mKeyError\u001b[0m: 'if'"
     ]
    }
   ],
=======
   "execution_count": null,
   "metadata": {
    "collapsed": true
   },
   "outputs": [],
>>>>>>> d66f03f457dea84c20d5d01137e89af691fb23e6
   "source": [
    "# сделаем еще одну итерацию по датасету, уменьшив скорость обучения в 10 раз\n",
    "acc = model.iterate_file(update_vocab=False, learning_rate=0.01)\n",
    "print('%0.2f' % acc)\n",
    "plt.plot(pd.Series(model._loss[:-25000]).rolling(10000).mean());"
   ]
  },
  {
   "cell_type": "markdown",
   "metadata": {
    "collapsed": true
   },
   "source": [
    "<font color=\"red\">Вопрос 9.</font> К какому значению ближе всего полученное значение точности:\n",
    "<font color=\"red\">Варианты ответа:</font>\n",
    "1. 0.48\n",
    "2. 0.58\n",
    "3. 0.68\n",
    "4. 0.78"
   ]
  },
  {
   "cell_type": "markdown",
   "metadata": {},
   "source": [
    "## 10. Прогнозирование тегов для новых вопросов\n",
    "\n",
    "В завершение этого задания вам предлагается реализовать метод `predict_proba`, который принимает строку, содержащую вопрос, а возвращает список предсказанных тегов вопроса с их вероятностями."
   ]
  },
  {
   "cell_type": "code",
   "execution_count": null,
   "metadata": {
    "collapsed": true
   },
   "outputs": [],
   "source": [
    "# Обновите определение класса LogRegressor\n",
    "# Ваш код здесь"
   ]
  },
  {
   "cell_type": "code",
   "execution_count": null,
   "metadata": {
    "collapsed": true
   },
   "outputs": [],
   "source": [
    "model = LogRegressor()\n",
    "acc = model.iterate_file(update_vocab=True)\n",
    "print('%0.2f' % acc)\n",
    "model.filter_vocab(n=10000)\n",
    "acc = model.iterate_file(update_vocab=False, learning_rate=0.01)\n",
    "print('%0.2f' % acc)"
   ]
  },
  {
   "cell_type": "code",
   "execution_count": null,
   "metadata": {
    "collapsed": true
   },
   "outputs": [],
   "source": [
    "sentence = (\"I want to improve my coding skills, so I have planned write \" +\n",
    "            \"a Mobile Application.need to choose between Apple's iOS or Google's Android.\" +\n",
    "            \" my background: I have done basic programming in .Net,C/C++,Python and PHP \" +\n",
    "            \"in college, so got OOP concepts covered. about my skill level, I just know \" +\n",
    "            \"concepts and basic syntax. But can't write complex applications, if asked :(\" +\n",
    "            \" So decided to hone my skills, And I wanted to know which is easier to \" +\n",
    "            \"learn for a programming n00b. A) iOS which uses Objective C B) Android \" + \n",
    "            \"which uses Java. I want to decide based on difficulty \" + \n",
    "            \"level\").lower().replace(',', '')"
   ]
  },
  {
   "cell_type": "code",
   "execution_count": null,
   "metadata": {
    "collapsed": true
   },
   "outputs": [],
   "source": [
    "sorted(model.predict_proba(sentence).items(), \n",
    "       key=lambda t: t[1], reverse=True)"
   ]
  },
  {
   "cell_type": "markdown",
   "metadata": {},
   "source": [
    "<font color=\"red\">Вопрос 10.</font> Отметьте все теги, ассоциирующиеся с данным вопросом, если порог принятия равен $0.9$. То есть считаем, что вопросу надо поставить некоторый тег, если вероятность его появления, предсказанная моделью, больше или равна 0.9. \n",
    "\n",
    "<font color=\"red\">Варианты ответа:</font>\n",
    "1. android\n",
    "2. ios\n",
    "3. php\n",
    "4. java"
   ]
  }
 ],
 "metadata": {
  "kernelspec": {
   "display_name": "Python 3",
   "language": "python",
   "name": "python3"
<<<<<<< HEAD
  },
  "language_info": {
   "codemirror_mode": {
    "name": "ipython",
    "version": 3
   },
   "file_extension": ".py",
   "mimetype": "text/x-python",
   "name": "python",
   "nbconvert_exporter": "python",
   "pygments_lexer": "ipython3",
   "version": "3.5.4"
=======
>>>>>>> d66f03f457dea84c20d5d01137e89af691fb23e6
  }
 },
 "nbformat": 4,
 "nbformat_minor": 2
}
